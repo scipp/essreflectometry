{
 "cells": [
  {
   "cell_type": "markdown",
   "metadata": {},
   "source": [
    "# Divergent data reduction for Amor\n",
    "\n",
    "In this notebook, we will look at how to use the `essreflectometry` package with Sciline, for reflectometry data collected from the PSI instrument [Amor](https://www.psi.ch/en/sinq/amor) in [divergent beam mode](https://www.psi.ch/en/sinq/amor/selene).\n",
    "\n",
    "We will begin by importing the modules that are necessary for this notebook."
   ]
  },
  {
   "cell_type": "code",
   "execution_count": null,
   "metadata": {},
   "outputs": [],
   "source": [
    "import scipp as sc\n",
    "import sciline\n",
    "from essreflectometry.amor import providers, default_parameters\n",
    "from essreflectometry.types import *"
   ]
  },
  {
   "cell_type": "code",
   "execution_count": null,
   "metadata": {},
   "outputs": [],
   "source": [
    "params={\n",
    "    **default_parameters,\n",
    "    QBins: sc.geomspace(dim='Q', start=0.008, stop=0.075, num=200, unit='1/angstrom'),\n",
    "    SampleRotation[Sample]: sc.scalar(0.7989, unit='deg'),\n",
    "    Filename[Sample]: \"sample.nxs\",\n",
    "    SampleRotation[Reference]: sc.scalar(0.8389, unit='deg'),\n",
    "    Filename[Reference]: \"reference.nxs\",\n",
    "}"
   ]
  },
  {
   "cell_type": "code",
   "execution_count": null,
   "metadata": {},
   "outputs": [],
   "source": [
    "pipeline = sciline.Pipeline(\n",
    "    providers,\n",
    "    params=params\n",
    ")"
   ]
  },
  {
   "cell_type": "code",
   "execution_count": null,
   "metadata": {},
   "outputs": [],
   "source": [
    "pipeline.visualize((NormalizedIofQ, QResolution), graph_attr={'rankdir': 'LR'})"
   ]
  },
  {
   "cell_type": "code",
   "execution_count": null,
   "metadata": {},
   "outputs": [],
   "source": [
    "# Compute I over Q and the standard deviation of Q\n",
    "ioq, qstd = pipeline.compute((NormalizedIofQ, QResolution)).values()"
   ]
  },
  {
   "cell_type": "code",
   "execution_count": null,
   "metadata": {},
   "outputs": [],
   "source": [
    "import matplotlib.pyplot as plt\n",
    "\n",
    "fig = plt.figure(figsize=(5, 7))\n",
    "ax1 = fig.add_axes([0, 0.55, 1.0, 0.45])\n",
    "ax2 = fig.add_axes([0, 0.0, 1.0, 0.45])\n",
    "cax = fig.add_axes([1.05, 0.55, 0.03, 0.45])\n",
    "fig1 = ioq.plot(norm='log', ax=ax1, cax=cax, grid=True)\n",
    "fig2 = ioq.mean('detector_number').plot(norm='log', ax=ax2, grid=True)\n",
    "fig1.canvas.xrange = fig2.canvas.xrange"
   ]
  },
  {
   "cell_type": "markdown",
   "metadata": {},
   "source": [
    "## Make a $(\\lambda, \\theta)$ map\n",
    "A good sanity check is to create a two-dimensional map of the counts in $\\lambda$ and $\\theta$ bins. To achieve this, we request the `ThetaData` from the pipeline. In the graph above we can see that `WavelengthData` is required to compute `ThetaData`, therefore it is also present in `ThetaData` so we don't need to require it separately."
   ]
  },
  {
   "cell_type": "code",
   "execution_count": null,
   "metadata": {},
   "outputs": [],
   "source": [
    "from essreflectometry.types import ThetaData\n",
    "pipeline.compute(ThetaData[Sample])\\\n",
    "    .bins.concat('detector_number')\\\n",
    "    .hist(\n",
    "        theta=sc.linspace(dim='theta', start=0.0, stop=1.2, num=165, unit='deg').to(unit='rad'),\n",
    "        wavelength=sc.linspace(dim='wavelength', start=0, stop=15.0, num=165, unit='angstrom'),\n",
    "    )\\\n",
    "    .plot()\n"
   ]
  },
  {
   "cell_type": "markdown",
   "metadata": {},
   "source": [
    "This plot can be used to check if the value of the sample rotation angle $\\omega$ is correct. The bright triangles should be pointing back to the origin $\\lambda = \\theta = 0$."
   ]
  }
 ],
 "metadata": {
  "kernelspec": {
   "display_name": "essreflectometry",
   "language": "python",
   "name": "python3"
  },
  "language_info": {
   "codemirror_mode": {
    "name": "ipython",
    "version": 3
   },
   "file_extension": ".py",
   "mimetype": "text/x-python",
   "name": "python",
   "nbconvert_exporter": "python",
   "pygments_lexer": "ipython3",
   "version": "3.10.12"
  }
 },
 "nbformat": 4,
 "nbformat_minor": 2
}
