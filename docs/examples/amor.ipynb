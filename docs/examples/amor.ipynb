{
 "cells": [
  {
   "cell_type": "code",
   "execution_count": null,
   "metadata": {},
   "outputs": [],
   "source": [
    "import scipp as sc\n",
    "import sciline\n",
    "from essreflectometry.amor import providers as amor\n",
    "from essreflectometry.reflectometry import providers as reflectometry\n",
    "from essreflectometry.reflectometry.types import (\n",
    "    Sample, Reference, Sample, SampleRotation, Filename,\n",
    "    ThetaData, QBins, NormalizedIOverQ, QStd\n",
    ")\n",
    "\n",
    "pipeline = sciline.Pipeline(\n",
    "    amor + reflectometry,\n",
    "    params={\n",
    "        QBins: sc.geomspace(dim='Q', start=0.008, stop=0.075, num=200, unit='1/angstrom'),\n",
    "        SampleRotation[Sample]: sc.scalar(0.7989, unit='deg'),\n",
    "        Filename[Sample]: \"sample.nxs\",\n",
    "        SampleRotation[Reference]: sc.scalar(0.8389, unit='deg'),\n",
    "        Filename[Reference]: \"reference.nxs\",\n",
    "    }\n",
    ")\n",
    "\n",
    "pipeline.visualize((NormalizedIOverQ, QStd))"
   ]
  },
  {
   "cell_type": "code",
   "execution_count": null,
   "metadata": {},
   "outputs": [],
   "source": [
    "normalized = pipeline.compute(NormalizedIOverQ)\n",
    "normalized.plot(norm='log') + normalized.mean('detector_number').plot(norm='log')\n"
   ]
  },
  {
   "cell_type": "code",
   "execution_count": null,
   "metadata": {},
   "outputs": [],
   "source": [
    "# Diagnostics plot\n",
    "(pipeline.compute(ThetaData[Sample])\n",
    "    .bins.concat('detector_number')\n",
    "    .hist(\n",
    "        theta=sc.linspace(dim='theta', start=0.0, stop=1.2, num=165, unit='deg').to(unit='rad'),\n",
    "        wavelength=sc.linspace(dim='wavelength', start=0, stop=15.0, num=165, unit='angstrom'),\n",
    "    )\n",
    "    .plot())\n"
   ]
  },
  {
   "cell_type": "code",
   "execution_count": null,
   "metadata": {},
   "outputs": [],
   "source": [
    "res = pipeline.compute((NormalizedIOverQ, QStd))\n",
    "res[QStd].plot()"
   ]
  }
 ],
 "metadata": {
  "kernelspec": {
   "display_name": "essreflectometry",
   "language": "python",
   "name": "python3"
  },
  "language_info": {
   "codemirror_mode": {
    "name": "ipython",
    "version": 3
   },
   "file_extension": ".py",
   "mimetype": "text/x-python",
   "name": "python",
   "nbconvert_exporter": "python",
   "pygments_lexer": "ipython3",
   "version": "3.10.12"
  }
 },
 "nbformat": 4,
 "nbformat_minor": 2
}
