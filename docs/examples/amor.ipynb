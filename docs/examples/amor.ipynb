{
 "cells": [
  {
   "cell_type": "code",
   "execution_count": null,
   "metadata": {},
   "outputs": [],
   "source": [
    "import numpy as np\n",
    "\n",
    "import scipp as sc\n",
    "import sciline\n",
    "from essreflectometry.amor.load import load\n",
    "from essreflectometry.amor.beamline import make_beamline\n",
    "from essreflectometry.amor.conversions import specular_reflection\n",
    "from essreflectometry.amor.resolution import add_resolutions, compute_resolution\n",
    "from essreflectometry.amor.normalize import normalize_by_supermirror\n",
    "from essreflectometry.amor.calibrations import supermirror_calibration\n",
    "from essreflectometry.reflectometry.corrections import footprint_correction, normalize_by_counts\n",
    "from essreflectometry.reflectometry.conversions import providers\n",
    "from essreflectometry.reflectometry.types import (\n",
    "    ThetaBins, WavelengthBins, Sample, Reference, Sample, SampleRotation, Filename,\n",
    "    ThetaData, WavelengthData, HistogrammedByQ, QDataWithResolutions, QData, QBins, NormalizedIOverQ\n",
    ")\n",
    "\n",
    "\n",
    "pipeline = sciline.Pipeline(\n",
    "    [load, make_beamline, specular_reflection, footprint_correction,\n",
    "     add_resolutions, compute_resolution, normalize_by_counts, supermirror_calibration, normalize_by_supermirror]\n",
    "    + providers,\n",
    "    params={\n",
    "        ThetaBins: sc.linspace(dim='theta', start=0, stop=np.pi/2, num=2, unit='rad'),\n",
    "        WavelengthBins: sc.array(dims=['wavelength'], values=[2.4, 16.0], unit='angstrom'),\n",
    "        QBins: sc.geomspace(dim='Q', start=0.008, stop=0.075, num=200, unit='1/angstrom'),\n",
    "\n",
    "        SampleRotation[Sample]: sc.scalar(0.7989, unit='deg'),\n",
    "        Filename[Sample]: \"sample.nxs\",\n",
    "        SampleRotation[Reference]: sc.scalar(0.8389, unit='deg'),\n",
    "        Filename[Reference]: \"reference.nxs\",\n",
    "    }\n",
    ")\n",
    "\n",
    "pipeline.visualize(NormalizedIOverQ)"
   ]
  },
  {
   "cell_type": "code",
   "execution_count": null,
   "metadata": {},
   "outputs": [],
   "source": [
    "pipeline.compute(HistogrammedByQ[QData[Reference]])"
   ]
  },
  {
   "cell_type": "code",
   "execution_count": null,
   "metadata": {},
   "outputs": [],
   "source": [
    "(pipeline.compute(WithResolution)\n",
    "     .bins.concat('detector_number').hist(wavelength=200)\n",
    "     .plot())"
   ]
  }
 ],
 "metadata": {
  "kernelspec": {
   "display_name": "essreflectometry",
   "language": "python",
   "name": "python3"
  },
  "language_info": {
   "codemirror_mode": {
    "name": "ipython",
    "version": 3
   },
   "file_extension": ".py",
   "mimetype": "text/x-python",
   "name": "python",
   "nbconvert_exporter": "python",
   "pygments_lexer": "ipython3",
   "version": "3.10.12"
  }
 },
 "nbformat": 4,
 "nbformat_minor": 2
}
