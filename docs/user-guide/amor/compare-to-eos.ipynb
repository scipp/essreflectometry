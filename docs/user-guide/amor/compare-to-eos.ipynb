{
 "cells": [
  {
   "cell_type": "markdown",
   "id": "0",
   "metadata": {},
   "source": [
    "# Comparison with PSI reduction software\n",
    "\n",
    "This notebook is for validating the results from the `essreflectometry` packages by comparing them\n",
    "to the ones obtained by the PSI software at the Amor beamline."
   ]
  },
  {
   "cell_type": "code",
   "execution_count": null,
   "id": "1",
   "metadata": {},
   "outputs": [],
   "source": [
    "import orsopy\n",
    "import matplotlib.pyplot as plt\n",
    "\n",
    "import scipp as sc\n",
    "import plopp as pp\n",
    "from ess import amor\n",
    "from ess.amor import data  # noqa: F401\n",
    "from ess.reflectometry.types import *\n",
    "from ess.amor.types import ChopperPhase"
   ]
  },
  {
   "cell_type": "markdown",
   "id": "2",
   "metadata": {},
   "source": [
    "## Recreate reference files using Jochens Amor data reduction software\n",
    "\n",
    "#### step 1\n",
    "```\n",
    "%%bash\n",
    "git clone https://github.com/jochenstahn/amor.git\n",
    "wget -P raw https://public.esss.dk/groups/scipp/ess/amor/1/amor2023n000{608..614}.hdf\n",
    "```\n",
    "\n",
    "#### step 2\n",
    "```\n",
    "%%bash\n",
    "args='-Y 2023 -d raw -n 614 -m 0.05 -co -7.5 -of ort'\n",
    "\n",
    "rm raw/614.norm\n",
    "python amor/neos.py $args -f 614\n",
    "\n",
    "for i in `seq 608 613`\n",
    "do\n",
    "    python amor/neos.py $args -f $i -o $i\n",
    "done\n",
    "```"
   ]
  },
  {
   "cell_type": "markdown",
   "id": "3",
   "metadata": {},
   "source": [
    "## Run essreflectometry on the same files"
   ]
  },
  {
   "cell_type": "code",
   "execution_count": null,
   "id": "4",
   "metadata": {},
   "outputs": [],
   "source": [
    "workflow = amor.AmorWorkflow()\n",
    "\n",
    "workflow[SampleSize[SampleRun]] = sc.scalar(10.0, unit='mm')\n",
    "workflow[SampleSize[ReferenceRun]] = sc.scalar(10.0, unit='mm')\n",
    "workflow[ChopperPhase[SampleRun]] = sc.scalar(-7.5, unit='deg')\n",
    "\n",
    "# In Jochens workflow:\n",
    "#    * divergence mask: [-0.7, 0.7]\n",
    "#    * note, divergence relative to beam center\n",
    "workflow[WavelengthBins] = sc.geomspace('wavelength', 2.8, 12.5, 301, unit='angstrom')\n",
    "workflow[QBins] = sc.geomspace(\n",
    "    dim='Q', start=0.00505, stop=2.93164766e-01, num=391, unit='1/angstrom'\n",
    ")\n",
    "workflow[YIndexLimits] = sc.scalar(11, unit=None), sc.scalar(41, unit=None)\n",
    "workflow[ZIndexLimits] = sc.scalar(80, unit=None), sc.scalar(370, unit=None)\n",
    "\n",
    "# Chopper phase value in the file is wrong, so we set it manually\n",
    "workflow[ChopperPhase[ReferenceRun]] = sc.scalar(-7.5, unit='deg')\n",
    "# The sample rotation value in the file is slightly off, so we set it manually\n",
    "workflow[SampleRotation[ReferenceRun]] = sc.scalar(0.65, unit='deg')\n",
    "workflow[Filename[ReferenceRun]] = amor.data.amor_reference_run()\n",
    "\n",
    "reference_result = workflow.compute(IdealReferenceIntensity)\n",
    "# Set the result back onto the pipeline to cache it\n",
    "workflow[IdealReferenceIntensity] = reference_result"
   ]
  },
  {
   "cell_type": "code",
   "execution_count": null,
   "id": "5",
   "metadata": {},
   "outputs": [],
   "source": [
    "mu = {\n",
    "    '608': 0.8,\n",
    "    '609': 2.2,\n",
    "    '610': 3.6,\n",
    "    '611': 5.0,\n",
    "    '612': 0.6,\n",
    "    '613': 0.6,\n",
    "}\n",
    "\n",
    "results = sc.DataGroup({'ess': sc.DataGroup(), 'psi': sc.DataGroup()})\n",
    "\n",
    "# ESS results\n",
    "for key, angle in mu.items():\n",
    "    print(key, '... ', end='')\n",
    "    workflow[SampleRotation[SampleRun]] = sc.scalar(angle + 0.05, unit='deg')\n",
    "    workflow[Filename[SampleRun]] = amor.data.amor_sample_run(key)\n",
    "    da = workflow.compute(NormalizedIofQ).hist()\n",
    "    da.coords['Q'] = sc.midpoints(da.coords['Q'], dim='Q')\n",
    "    results['ess'][key] = da\n",
    "    print('Done!')"
   ]
  },
  {
   "cell_type": "code",
   "execution_count": null,
   "id": "6",
   "metadata": {},
   "outputs": [],
   "source": [
    "# PSI results\n",
    "for key in mu:\n",
    "    d = orsopy.fileio.load_orso(amor.data.amor_psi_software_result(key))[0].data\n",
    "    y = sc.array(dims=['Q'], values=d[:, 1], variances=d[:, 2] ** 2)\n",
    "    results['psi'][key] = sc.DataArray(\n",
    "        data=y, coords={'Q': sc.array(dims=['Q'], values=d[:, 0], unit='1/angstrom')}\n",
    "    )"
   ]
  },
  {
   "cell_type": "markdown",
   "id": "7",
   "metadata": {},
   "source": [
    "## Plot reflectivity curve comparison"
   ]
  },
  {
   "cell_type": "code",
   "execution_count": null,
   "id": "8",
   "metadata": {},
   "outputs": [],
   "source": [
    "fig, axs = plt.subplots(3, 2, figsize=(12, 12))\n",
    "\n",
    "for ax, (key, angle) in zip(axs.ravel(), mu.items(), strict=True):\n",
    "    pp.plot(\n",
    "        {\n",
    "            facility: results[facility][key][results[facility][key].data > 0.0]\n",
    "            for facility in results\n",
    "        },\n",
    "        ax=ax,\n",
    "        norm='log',\n",
    "        ls='solid',\n",
    "        marker=None,\n",
    "        vmin=1.0e-4,\n",
    "        title=f'Angle: {angle} deg',\n",
    "    )\n",
    "\n",
    "fig.tight_layout()"
   ]
  },
  {
   "cell_type": "markdown",
   "id": "9",
   "metadata": {},
   "source": [
    "## Overlay curves from same sample at different angle, should be on top of each other"
   ]
  },
  {
   "cell_type": "code",
   "execution_count": null,
   "id": "10",
   "metadata": {},
   "outputs": [],
   "source": [
    "fig, axs = plt.subplots(1, 2, figsize=(12, 4))\n",
    "\n",
    "for ax, (facility, res) in zip(axs.ravel(), results.items(), strict=True):\n",
    "    pp.plot(\n",
    "        dict(list(res.items())[:4]),  # First 4 curves\n",
    "        ax=ax,\n",
    "        norm='log',\n",
    "        ls='solid',\n",
    "        marker=None,\n",
    "        vmin=1.0e-4,\n",
    "        title=facility,\n",
    "    )"
   ]
  }
 ],
 "metadata": {
  "kernelspec": {
   "display_name": "Python 3 (ipykernel)",
   "language": "python",
   "name": "python3"
  },
  "language_info": {
   "codemirror_mode": {
    "name": "ipython",
    "version": 3
   },
   "file_extension": ".py",
   "mimetype": "text/x-python",
   "name": "python",
   "nbconvert_exporter": "python",
   "pygments_lexer": "ipython3",
   "version": "3.10.13"
  }
 },
 "nbformat": 4,
 "nbformat_minor": 5
}
