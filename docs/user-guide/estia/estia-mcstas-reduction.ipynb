{
 "cells": [
  {
   "cell_type": "markdown",
   "id": "0",
   "metadata": {},
   "source": [
    "# Reduction of ESTIA McStas data\n",
    "\n",
    "- Audience: Instrument users, beginners\n",
    "- Prerequisites: Basic knowledge of [Scipp](https://scipp.github.io/)\n",
    "\n",
    "This notebook demonstrates the basic reflectometry data reduction workflow for ESTIA with simulated data.\n",
    "A workflow for data recorded at ESS would be very similar but is not yet available.\n",
    "The workflow:\n",
    "\n",
    "1. Converts the data to momentum transfer $Q$.\n",
    "2. Normalizes by a reference measurement.\n",
    "3. Packages the results to be saved to and [ORSO ORT](https://www.reflectometry.org/advanced_and_expert_level/file_format) file.\n",
    "\n",
    "The data is available through the ESSreflectometry package but accessing it requires the pooch package.\n",
    "If you get an error about a missing module pooch, you can install it with `!pip install pooch`."
   ]
  },
  {
   "cell_type": "code",
   "execution_count": null,
   "id": "1",
   "metadata": {},
   "outputs": [],
   "source": [
    "import scipp as sc\n",
    "\n",
    "from ess.estia.data import estia_mcstas_example\n",
    "from ess.estia import EstiaMcStasWorkflow\n",
    "from ess.reflectometry.types import *"
   ]
  },
  {
   "cell_type": "markdown",
   "id": "2",
   "metadata": {},
   "source": [
    "## Create and configure the workflow\n",
    "\n",
    "We begin by creating the ESTIA (McStas) workflow object which is a skeleton for reducing ESTIA data with pre-configured steps:"
   ]
  },
  {
   "cell_type": "code",
   "execution_count": null,
   "id": "3",
   "metadata": {},
   "outputs": [],
   "source": [
    "wf = EstiaMcStasWorkflow()"
   ]
  },
  {
   "cell_type": "markdown",
   "id": "4",
   "metadata": {},
   "source": [
    "We then need to set the missing parameters which are specific to each experiment (the keys are types defined in [ess.reflectometry.types](../../generated/modules/ess.reflectometry.types.rst))."
   ]
  },
  {
   "cell_type": "code",
   "execution_count": null,
   "id": "5",
   "metadata": {},
   "outputs": [],
   "source": [
    "# Specify input data files:\n",
    "# (The choice of 'Ni/Ti-multilayer' file number 3 is arbitrary.)\n",
    "wf[Filename[SampleRun]] = estia_mcstas_example('Ni/Ti-multilayer')[3]\n",
    "wf[Filename[ReferenceRun]] = estia_mcstas_example('reference')\n",
    "\n",
    "# Select a region of interest:\n",
    "wf[YIndexLimits] = sc.scalar(35), sc.scalar(64)\n",
    "wf[ZIndexLimits] = sc.scalar(0), sc.scalar(48 * 32)\n",
    "wf[BeamDivergenceLimits] = sc.scalar(-0.75, unit='deg'), sc.scalar(0.75, unit='deg')\n",
    "\n",
    "# Configure the binning of intermediate and final results:\n",
    "wf[WavelengthBins] = sc.geomspace('wavelength', 3.5, 12, 2001, unit='angstrom')\n",
    "wf[QBins] = 1000\n",
    "\n",
    "# There is no proton current data in the McStas files, here we just add some fake proton current\n",
    "# data to make the workflow run.\n",
    "wf[ProtonCurrent[SampleRun]] = sc.DataArray(\n",
    "    sc.array(dims=('time',), values=[]),\n",
    "    coords={'time': sc.array(dims=('time',), values=[], unit='s')})\n",
    "wf[ProtonCurrent[ReferenceRun]] = sc.DataArray(\n",
    "    sc.array(dims=('time',), values=[]),\n",
    "    coords={'time': sc.array(dims=('time',), values=[], unit='s')})"
   ]
  },
  {
   "cell_type": "markdown",
   "id": "6",
   "metadata": {},
   "source": [
    "We can visualize the workflow as a graph.\n",
    "This can help us understand how the data will be reduced.\n",
    "(`ReflectivityOverQ` is the key of the output data.)"
   ]
  },
  {
   "cell_type": "code",
   "execution_count": null,
   "id": "7",
   "metadata": {},
   "outputs": [],
   "source": [
    "wf.visualize(ReflectivityOverQ, graph_attr={'rankdir': \"LR\"})"
   ]
  },
  {
   "cell_type": "markdown",
   "id": "8",
   "metadata": {},
   "source": [
    "The workflow is a [Sciline](https://scipp.github.io/sciline/) pipeline.\n",
    "See the documentation of Sciline for more information and how to modify and extend the workflow.\n",
    "\n",
    "## Use the reduction workflow\n",
    "\n",
    "We call [wf.compute(targets)](https://scipp.github.io/sciline/generated/classes/sciline.Pipeline.html#sciline.Pipeline.compute) to compute the result:"
   ]
  },
  {
   "cell_type": "code",
   "execution_count": null,
   "id": "9",
   "metadata": {},
   "outputs": [],
   "source": [
    "reflectivity = wf.compute(ReflectivityOverQ)"
   ]
  },
  {
   "cell_type": "markdown",
   "id": "10",
   "metadata": {},
   "source": [
    "The reflectivity is still event data.\n",
    "We can histogram it and plot it:"
   ]
  },
  {
   "cell_type": "code",
   "execution_count": null,
   "id": "11",
   "metadata": {},
   "outputs": [],
   "source": [
    "reflectivity.hist().plot(norm='log', vmin=1e-8)"
   ]
  },
  {
   "cell_type": "markdown",
   "id": "12",
   "metadata": {},
   "source": [
    "## Saving to ORSO ORT file\n",
    "\n",
    "Ultimately, we want to save the reduced data to a file.\n",
    "The workflow supports building an [ORSO dataset](https://www.reflectometry.org/orsopy/orsopy.fileio.html#orsopy.fileio.OrsoDataset) from the reduced data: `OrsoIofQDataset`.\n",
    "We require some additional imports:"
   ]
  },
  {
   "cell_type": "code",
   "execution_count": null,
   "id": "13",
   "metadata": {},
   "outputs": [],
   "source": [
    "from orsopy import fileio\n",
    "\n",
    "from ess.reflectometry import orso"
   ]
  },
  {
   "cell_type": "code",
   "execution_count": null,
   "id": "14",
   "metadata": {},
   "outputs": [],
   "source": [
    "wf.visualize(orso.OrsoIofQDataset, graph_attr={'rankdir': \"LR\"})"
   ]
  },
  {
   "cell_type": "markdown",
   "id": "15",
   "metadata": {},
   "source": [
    "We can see from the graph that some nodes are missing (red boxes).\n",
    "These need to be manually provided as they cannot be deduced from the input.\n",
    "Further, McStas files do not contain all required metadata, so that needs to be provided manually as well."
   ]
  },
  {
   "cell_type": "code",
   "execution_count": null,
   "id": "16",
   "metadata": {},
   "outputs": [],
   "source": [
    "wf[orso.Beamline] = orso.Beamline(name='ESTIA', facility='ESS')\n",
    "wf[orso.Measurement] = orso.Measurement(\n",
    "    title='McStas Simulation, Ni/Ti-multilayer',\n",
    ")\n",
    "wf[orso.OrsoSample] = orso.OrsoSample(\n",
    "    fileio.data_source.Sample(name='Ni/Ti multilayer')\n",
    ")\n",
    "wf[orso.OrsoCreator] = orso.OrsoCreator(\n",
    "    fileio.base.Person(\n",
    "        name='Max Mustermann',\n",
    "        affiliation='European Spallation Source ERIC',\n",
    "        contact='max.mustermann@ess.eu',\n",
    "    )\n",
    ")\n",
    "wf[orso.OrsoOwner] = wf[orso.OrsoCreator]"
   ]
  },
  {
   "cell_type": "markdown",
   "id": "17",
   "metadata": {},
   "source": [
    "Now that we have these additional parameters, we can construct the ORSO dataset:\n",
    "(Note that this will re-run the reduction procedure to ensure that all data is consistent.)"
   ]
  },
  {
   "cell_type": "code",
   "execution_count": null,
   "id": "18",
   "metadata": {},
   "outputs": [],
   "source": [
    "dataset = wf.compute(orso.OrsoIofQDataset)"
   ]
  },
  {
   "cell_type": "markdown",
   "id": "19",
   "metadata": {},
   "source": [
    "The `dataset` has not been written to disk yet.\n",
    "For that, simply call `save`:"
   ]
  },
  {
   "cell_type": "code",
   "execution_count": null,
   "id": "20",
   "metadata": {},
   "outputs": [],
   "source": [
    "dataset.save('estia_reduced_iofq.ort')"
   ]
  },
  {
   "cell_type": "markdown",
   "id": "21",
   "metadata": {},
   "source": [
    "---\n",
    "\n",
    "Next, consider reading the [ESTIA advanced McStas reduction](./estia-advanced-mcstas-reduction.rst) guide which demonstrates how multiple files can be reduced together and how to make different types of plots."
   ]
  }
 ],
 "metadata": {
  "kernelspec": {
   "display_name": "Python 3 (ipykernel)",
   "language": "python",
   "name": "python3"
  },
  "language_info": {
   "codemirror_mode": {
    "name": "ipython",
    "version": 3
   },
   "file_extension": ".py",
   "mimetype": "text/x-python",
   "name": "python",
   "nbconvert_exporter": "python",
   "pygments_lexer": "ipython3",
   "version": "3.10.14"
  }
 },
 "nbformat": 4,
 "nbformat_minor": 5
}
