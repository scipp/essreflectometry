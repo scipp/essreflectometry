{
 "cells": [
  {
   "cell_type": "markdown",
   "id": "0",
   "metadata": {},
   "source": [
    "# Reduction of ESTIA McStas data"
   ]
  },
  {
   "cell_type": "markdown",
   "id": "1",
   "metadata": {},
   "source": [
    "This notebook demonstrates how to run the data reduction on the output of McStas simulations of the instrument.\n",
    "\n",
    "Essentially this looks very similar to how one would do data reduction on real data files from the physical instrument,\n",
    "but we replace the default loader with the `load_mcstas_events` provider."
   ]
  },
  {
   "cell_type": "code",
   "execution_count": null,
   "id": "2",
   "metadata": {},
   "outputs": [],
   "source": [
    "%matplotlib widget\n",
    "import scipp as sc\n",
    "\n",
    "from ess.estia.load import load_mcstas_events\n",
    "from ess.estia.data import estia_mcstas_example\n",
    "from ess.estia import EstiaWorkflow\n",
    "\n",
    "from ess.reflectometry.types import *\n",
    "\n",
    "from ess.reflectometry.figures import wavelength_z_figure, wavelength_theta_figure, q_theta_figure\n",
    "\n",
    "\n",
    "wf = EstiaWorkflow()\n",
    "wf.insert(load_mcstas_events)\n",
    "wf[Filename[ReferenceRun]] = estia_mcstas_example('reference')\n",
    "\n",
    "wf[YIndexLimits]  = sc.scalar(35), sc.scalar(64)\n",
    "wf[ZIndexLimits] = sc.scalar(0), sc.scalar(14 * 32)\n",
    "wf[BeamDivergenceLimits] = sc.scalar(-0.75, unit='deg'), sc.scalar(0.75, unit='deg')\n",
    "wf[WavelengthBins] = sc.geomspace('wavelength', 3.5, 12, 2001, unit='angstrom')\n",
    "wf[QBins] = 200\n",
    "\n",
    "# There is no proton current data in the McStas files, here we just add some fake proton current\n",
    "# data to make the workflow run.\n",
    "wf[ProtonCurrent[SampleRun]] = sc.DataArray(\n",
    "    sc.array(dims=('time',), values=[]),\n",
    "    coords={'time': sc.array(dims=('time',), values=[], unit='s')})\n",
    "wf[ProtonCurrent[ReferenceRun]] = sc.DataArray(\n",
    "    sc.array(dims=('time',), values=[]),\n",
    "    coords={'time': sc.array(dims=('time',), values=[], unit='s')})\n",
    "\n"
   ]
  },
  {
   "cell_type": "code",
   "execution_count": null,
   "id": "3",
   "metadata": {},
   "outputs": [],
   "source": [
    "results = {}\n",
    "for path in estia_mcstas_example('Ni/Ti-multilayer'):\n",
    "    w = wf.copy()\n",
    "    w[Filename[SampleRun]] = path\n",
    "    R, da = w.compute((ReflectivityOverQ, ReducibleData[SampleRun])).values()\n",
    "    results[f\"{da.coords['sample_rotation'].value} {da.coords['sample_rotation'].unit}\"] = R.hist()\n",
    "\n",
    "sc.plot(results, norm='log', vmin=1e-8)"
   ]
  },
  {
   "cell_type": "code",
   "execution_count": null,
   "id": "4",
   "metadata": {},
   "outputs": [],
   "source": [
    "results = []\n",
    "for path in estia_mcstas_example('Ni/Ti-multilayer'):\n",
    "    w = wf.copy()\n",
    "    w[Filename[SampleRun]] = path\n",
    "    results.append(w.compute(ReducibleData[SampleRun]))"
   ]
  },
  {
   "cell_type": "code",
   "execution_count": null,
   "id": "5",
   "metadata": {},
   "outputs": [],
   "source": [
    "wavelength_z_figure(results[3], wavelength_bins=400)"
   ]
  },
  {
   "cell_type": "code",
   "execution_count": null,
   "id": "6",
   "metadata": {},
   "outputs": [],
   "source": [
    "wavelength_theta_figure(results, wavelength_bins=400, theta_bins=200, q_edges_to_display=[sc.scalar(0.016, unit='1/angstrom'), sc.scalar(0.19, unit='1/angstrom')])"
   ]
  },
  {
   "cell_type": "code",
   "execution_count": null,
   "id": "7",
   "metadata": {},
   "outputs": [],
   "source": [
    "q_theta_figure(results, q_bins=300, theta_bins=200)"
   ]
  },
  {
   "cell_type": "code",
   "execution_count": null,
   "id": "8",
   "metadata": {},
   "outputs": [],
   "source": [
    "results = {}\n",
    "for path in estia_mcstas_example('Ni-film on silicon'):\n",
    "    w = wf.copy()\n",
    "    w[Filename[SampleRun]] = path\n",
    "    R, da = w.compute((ReflectivityOverQ, ReducibleData[SampleRun])).values()\n",
    "    results[f\"{da.coords['sample_rotation'].value} {da.coords['sample_rotation'].unit}\"] = R.hist()\n",
    "\n",
    "sc.plot(results, norm='log', vmin=1e-9)"
   ]
  },
  {
   "cell_type": "code",
   "execution_count": null,
   "id": "9",
   "metadata": {},
   "outputs": [],
   "source": [
    "results = []\n",
    "for path in estia_mcstas_example('Ni-film on silicon'):\n",
    "    w = wf.copy()\n",
    "    w[Filename[SampleRun]] = path\n",
    "    results.append(w.compute(ReducibleData[SampleRun]))"
   ]
  },
  {
   "cell_type": "code",
   "execution_count": null,
   "id": "10",
   "metadata": {},
   "outputs": [],
   "source": [
    "wavelength_z_figure(results[3], wavelength_bins=400)"
   ]
  },
  {
   "cell_type": "code",
   "execution_count": null,
   "id": "11",
   "metadata": {},
   "outputs": [],
   "source": [
    "wavelength_theta_figure(results, wavelength_bins=400, theta_bins=200, q_edges_to_display=[sc.scalar(0.016, unit='1/angstrom'), sc.scalar(0.19, unit='1/angstrom')])"
   ]
  },
  {
   "cell_type": "code",
   "execution_count": null,
   "id": "12",
   "metadata": {},
   "outputs": [],
   "source": [
    "q_theta_figure(results, q_bins=300, theta_bins=200)"
   ]
  },
  {
   "cell_type": "code",
   "execution_count": null,
   "id": "13",
   "metadata": {},
   "outputs": [],
   "source": [
    "results = {}\n",
    "for path in estia_mcstas_example('Natural SiO2 on silicon'):\n",
    "    w = wf.copy()\n",
    "    w[Filename[SampleRun]] = path\n",
    "    R, da = w.compute((ReflectivityOverQ, ReducibleData[SampleRun])).values()\n",
    "    results[f\"{da.coords['sample_rotation'].value} {da.coords['sample_rotation'].unit}\"] = R.hist()\n",
    "\n",
    "sc.plot(results, norm='log', vmin=1e-9)"
   ]
  },
  {
   "cell_type": "code",
   "execution_count": null,
   "id": "14",
   "metadata": {},
   "outputs": [],
   "source": [
    "results = []\n",
    "for path in estia_mcstas_example('Natural SiO2 on silicon'):\n",
    "    w = wf.copy()\n",
    "    w[Filename[SampleRun]] = path\n",
    "    results.append(w.compute(ReducibleData[SampleRun]))"
   ]
  },
  {
   "cell_type": "code",
   "execution_count": null,
   "id": "15",
   "metadata": {},
   "outputs": [],
   "source": [
    "wavelength_z_figure(results[3], wavelength_bins=400)"
   ]
  },
  {
   "cell_type": "code",
   "execution_count": null,
   "id": "16",
   "metadata": {},
   "outputs": [],
   "source": [
    "wavelength_theta_figure(results, wavelength_bins=400, theta_bins=200, q_edges_to_display=[sc.scalar(0.016, unit='1/angstrom')])"
   ]
  },
  {
   "cell_type": "code",
   "execution_count": null,
   "id": "17",
   "metadata": {},
   "outputs": [],
   "source": [
    "q_theta_figure(results, q_bins=300, theta_bins=200)"
   ]
  }
 ],
 "metadata": {
  "kernelspec": {
   "display_name": "Python 3 (ipykernel)",
   "language": "python",
   "name": "python3"
  },
  "language_info": {
   "codemirror_mode": {
    "name": "ipython",
    "version": 3
   },
   "file_extension": ".py",
   "mimetype": "text/x-python",
   "name": "python",
   "nbconvert_exporter": "python",
   "pygments_lexer": "ipython3",
   "version": "3.10.14"
  }
 },
 "nbformat": 4,
 "nbformat_minor": 5
}
