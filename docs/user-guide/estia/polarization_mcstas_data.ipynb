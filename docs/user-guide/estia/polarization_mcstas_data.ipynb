{
 "cells": [
  {
   "cell_type": "code",
   "execution_count": null,
   "id": "0",
   "metadata": {},
   "outputs": [],
   "source": [
    "%matplotlib widget\n",
    "import scipp as sc\n",
    "\n",
    "from ess.estia.load import load_mcstas_events\n",
    "from ess.estia import EstiaWorkflow\n",
    "from ess.reflectometry.types import *\n",
    "from ess.reflectometry.supermirror import CriticalEdge\n",
    "\n",
    "\n",
    "wf = EstiaWorkflow()\n",
    "wf.insert(load_mcstas_events)\n",
    "\n",
    "wf[YIndexLimits]  = sc.scalar(35), sc.scalar(64)\n",
    "wf[ZIndexLimits] = sc.scalar(0), sc.scalar(14 * 32)\n",
    "wf[BeamDivergenceLimits] = sc.scalar(-0.75, unit='deg'), sc.scalar(0.75, unit='deg')\n",
    "wf[WavelengthBins] = sc.geomspace('wavelength', 3.5, 12, 301, unit='angstrom')\n",
    "wf[QBins] = sc.linspace('Q', 0.001, 0.1, 100, unit='1/angstrom')\n",
    "# Reference sample is perfect supermirror with reflectivity = 1 everywhere\n",
    "wf[CriticalEdge] = 100 * wf.compute(CriticalEdge)\n",
    "\n",
    "# There is no proton current data in the McStas files, here we just add some fake proton current\n",
    "# data to make the workflow run.\n",
    "wf[ProtonCurrent[SampleRun]] = sc.DataArray(\n",
    "    sc.array(dims=('time',), values=[]),\n",
    "    coords={'time': sc.array(dims=('time',), values=[], unit='s')})\n",
    "wf[ProtonCurrent[ReferenceRun]] = sc.DataArray(\n",
    "    sc.array(dims=('time',), values=[]),\n",
    "    coords={'time': sc.array(dims=('time',), values=[], unit='s')})"
   ]
  },
  {
   "cell_type": "code",
   "execution_count": null,
   "id": "1",
   "metadata": {},
   "outputs": [],
   "source": [
    "first = 221229\n",
    "\n",
    "run_numbers = dict(  # noqa: C408\n",
    "    reference=list(range(first, first+4)),\n",
    "    magnetic_reference=list(range(first+4, first+8)),\n",
    ")\n",
    "\n",
    "first = 221241\n",
    "run_numbers |= dict(  # noqa: C408\n",
    "    sample1=list(range(first, first+4)),\n",
    "    sample2=list(range(first+4, first+8)),\n",
    ")\n",
    "\n",
    "def path(num):\n",
    "    return f'polarization-runs/{num}/tof_detector_moved_list.p.x.y.t.L.sx.sy.sz.U1'\n"
   ]
  },
  {
   "cell_type": "code",
   "execution_count": null,
   "id": "2",
   "metadata": {},
   "outputs": [],
   "source": [
    "from ess.estia.calibration import reflectivity_provider\n",
    "from ess.estia.types import *\n",
    "\n",
    "\n",
    "results = {}\n",
    "for run in ('reference', 'magnetic_reference'):\n",
    "    for pth in map(path, run_numbers[run]):\n",
    "        w = wf.copy()\n",
    "        w[Filename[SampleRun]] = path(run_numbers['sample1'][0])\n",
    "        w[Filename[ReferenceRun]] = pth\n",
    "        results.setdefault(run, []).append(w.compute(Reference))\n",
    "\n",
    "\n",
    "#for pth in map(path, run_numbers['sample1']):\n",
    "for pth in map(path, run_numbers['magnetic_reference']):\n",
    "    w = wf.copy()\n",
    "    w[Filename[SampleRun]] = pth\n",
    "    w[Filename[ReferenceRun]] = path(run_numbers['reference'][0])\n",
    "    results.setdefault('sample1', []).append(w.compute(Sample))\n",
    "\n",
    "# Some bookkeeping necessary to make Scipp drop coords\n",
    "# instead of raising errors\n",
    "for res in results.values():\n",
    "    for r in res:\n",
    "        for c in r.coords:\n",
    "            r.coords.set_aligned(c, False)\n",
    "\n",
    "w = wf.copy()\n",
    "w.insert(reflectivity_provider)\n",
    "w[Intensity[NonMagneticReference, OffOff]] = results['reference'][0]\n",
    "w[Intensity[NonMagneticReference, OffOn]] = results['reference'][1]\n",
    "w[Intensity[NonMagneticReference, OnOff]] = results['reference'][2]\n",
    "w[Intensity[NonMagneticReference, OnOn]] = results['reference'][3]\n",
    "\n",
    "w[Intensity[MagneticReference, OffOff]] = results['magnetic_reference'][0]\n",
    "w[Intensity[MagneticReference, OffOn]] = results['magnetic_reference'][1]\n",
    "w[Intensity[MagneticReference, OnOff]] = results['magnetic_reference'][2]\n",
    "w[Intensity[MagneticReference, OnOn]] = results['magnetic_reference'][3]\n",
    "\n",
    "w[Intensity[MagneticSample, OffOff]] = results['sample1'][0]\n",
    "w[Intensity[MagneticSample, OffOn]] = results['sample1'][1]\n",
    "w[Intensity[MagneticSample, OnOff]] = results['sample1'][2]\n",
    "w[Intensity[MagneticSample, OnOn]] = results['sample1'][3]"
   ]
  },
  {
   "cell_type": "code",
   "execution_count": null,
   "id": "3",
   "metadata": {},
   "outputs": [],
   "source": [
    "R = w.compute(PolarizedReflectivityOverQ)"
   ]
  },
  {
   "cell_type": "code",
   "execution_count": null,
   "id": "4",
   "metadata": {},
   "outputs": [],
   "source": [
    "with open('SNAG_m5p5_Tdown.ref') as f:\n",
    "    d = [v.strip().split('\\t') for v in f.readlines()][:-1]\n",
    "\n",
    "R_true = sc.DataArray(data=sc.array(dims='Q',  values=[float(v[1]) for v in d]), coords={'Q': sc.array(dims='Q', values=[float(v[0]) for v in d], unit='1/angstrom')})"
   ]
  },
  {
   "cell_type": "code",
   "execution_count": null,
   "id": "5",
   "metadata": {},
   "outputs": [],
   "source": [
    "R_without_correction = []\n",
    "for i in range(4):\n",
    "    w = wf.copy()\n",
    "    #w[Filename[SampleRun]] = path(run_numbers['sample1'][i])\n",
    "    w[Filename[SampleRun]] = path(run_numbers['magnetic_reference'][i])\n",
    "    w[Filename[ReferenceRun]] = path(run_numbers['reference'][i])\n",
    "    R_without_correction.append(w.compute(ReflectivityOverQ).hist())"
   ]
  },
  {
   "cell_type": "code",
   "execution_count": null,
   "id": "6",
   "metadata": {},
   "outputs": [],
   "source": [
    "import plopp as pp\n",
    "from ess.reflectometry.normalization import reduce_from_lz_to_q\n",
    "labels = ['22', '23', '32', '33']\n",
    "\n",
    "p = pp.plot(\n",
    "    {\n",
    "        f'pa={labels[i]}': reduce_from_lz_to_q(r, w.compute(QBins)) for i, r in enumerate(results['magnetic_reference'])\n",
    "    },\n",
    "    title='Magnetic reference',\n",
    "    norm='log'\n",
    ")\n",
    "p.save('polarization-figures/magnetic-reference.png')\n",
    "p"
   ]
  },
  {
   "cell_type": "code",
   "execution_count": null,
   "id": "7",
   "metadata": {},
   "outputs": [],
   "source": [
    "p = pp.plot(\n",
    "    {\n",
    "        f'pa={labels[i]}': reduce_from_lz_to_q(r, w.compute(QBins)) for i, r in enumerate(results['reference'])\n",
    "    },\n",
    "    title='Reference',\n",
    "    norm='log'\n",
    ")\n",
    "p.save('polarization-figures/reference.png')\n",
    "p"
   ]
  },
  {
   "cell_type": "code",
   "execution_count": null,
   "id": "8",
   "metadata": {},
   "outputs": [],
   "source": [
    "p = pp.plot(\n",
    "    {\n",
    "        f'pa={labels[i]}': reduce_from_lz_to_q(r, w.compute(QBins)) for i, r in enumerate(results['sample1'])\n",
    "    },\n",
    "    title='Magnetic sample',\n",
    "    norm='log'\n",
    ")\n",
    "p.save('polarization-figures/sample_a1.png')\n",
    "p"
   ]
  },
  {
   "cell_type": "code",
   "execution_count": null,
   "id": "9",
   "metadata": {},
   "outputs": [],
   "source": [
    "labels = ['R down down', 'R down up', 'R up down', 'R up up']\n",
    "\n",
    "p = pp.plot(\n",
    "    {\n",
    "        f'{labels[i]}': r for i, r in enumerate(R)\n",
    "    } | {'true': R_true},\n",
    "    title='Reflectivity, corrected',\n",
    "    norm='log'\n",
    ")\n",
    "p.save('polarization-figures/reflectivity_corrected.png')\n",
    "p"
   ]
  },
  {
   "cell_type": "code",
   "execution_count": null,
   "id": "10",
   "metadata": {},
   "outputs": [],
   "source": [
    "p = pp.plot(\n",
    "    {\n",
    "        f'{labels[i]}': r for i, r in enumerate(R_without_correction)\n",
    "    } | {'true': R_true},\n",
    "    title='Reflectivity, not corrected',\n",
    "    norm='log'\n",
    ")\n",
    "p.save('polarization-figures/reflectivity_not_corrected.png')\n",
    "p"
   ]
  }
 ],
 "metadata": {
  "kernelspec": {
   "display_name": "Python 3 (ipykernel)",
   "language": "python",
   "name": "python3"
  },
  "language_info": {
   "codemirror_mode": {
    "name": "ipython",
    "version": 3
   },
   "file_extension": ".py",
   "mimetype": "text/x-python",
   "name": "python",
   "nbconvert_exporter": "python",
   "pygments_lexer": "ipython3",
   "version": "3.10.14"
  }
 },
 "nbformat": 4,
 "nbformat_minor": 5
}
