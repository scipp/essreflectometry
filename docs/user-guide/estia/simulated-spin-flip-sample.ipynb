{
 "cells": [
  {
   "cell_type": "markdown",
   "id": "0",
   "metadata": {},
   "source": [
    "# Reduction of spin flip data from McStas simulation\n",
    "\n",
    "This notebook contains an example of polarized reflectometry data reduction.\n",
    "The dataset comes from a McStas simulation of the ESTIA instrument.\n",
    "\n",
    "\n",
    "Four samples were simulated:\n",
    "\n",
    "* `supermirror` - a perfect nonmagnetic supermirror\n",
    "* `magnetic_supermirror` - a magnetic supermirror with high reflectivity for one spin state and low reflectivity for the other\n",
    "* `magnetic_supermirror_2` - a magnetic supermirror with slightly different reflectivity curve than `magnetic_supermirror`\n",
    "* `spin_flip_sample` - a magnetic supermirror that also causes some incident neutrons to spin flip with 10% probability\n",
    "\n",
    "Each sample was measured for four different flipper settings `offoff`, `offon`, `onoff`, `onon`, corresponding to the polarizer and analyzer flipper setting.\n",
    "\n",
    "In the data reduction procedure  `supermirror` and `magnetic_supermirror_2` will be used to calibrate the parameters of the instrument."
   ]
  },
  {
   "cell_type": "markdown",
   "id": "1",
   "metadata": {},
   "source": [
    "We start by importing packages and creating the workflow:"
   ]
  },
  {
   "cell_type": "code",
   "execution_count": null,
   "id": "2",
   "metadata": {},
   "outputs": [],
   "source": [
    "%matplotlib widget\n",
    "import scipp as sc\n",
    "import plopp as pp\n",
    "\n",
    "from ess.reflectometry.types import *\n",
    "from ess.reflectometry.supermirror import CriticalEdge\n",
    "\n",
    "from ess.estia.types import *\n",
    "from ess.estia import EstiaWorkflow\n",
    "from ess.estia.load import load_mcstas_events\n",
    "from ess.estia.data import (\n",
    "    estia_mcstas_spin_flip_example,\n",
    "    estia_mcstas_spin_flip_example_groundtruth,\n",
    "    estia_mcstas_spin_flip_example_download_all_to_cache\n",
    ")\n",
    "from ess.estia.calibration import (\n",
    "    reflectivity_provider,\n",
    "    reflectivity_provider_calibrate_on_lz\n",
    ")\n",
    "\n",
    "wf = EstiaWorkflow()\n",
    "wf.insert(load_mcstas_events)\n",
    "wf.insert(reflectivity_provider)\n",
    "\n",
    "wf[YIndexLimits]  = sc.scalar(35), sc.scalar(64)\n",
    "wf[ZIndexLimits] = sc.scalar(0), sc.scalar(14 * 32)\n",
    "wf[BeamDivergenceLimits] = sc.scalar(-0.75, unit='deg'), sc.scalar(0.75, unit='deg')\n",
    "wf[WavelengthBins] = sc.geomspace('wavelength', 3.5, 12, 301, unit='angstrom')\n",
    "wf[QBins] = sc.linspace('Q', 0.001, 0.1, 200, unit='1/angstrom')\n",
    "\n",
    "# Reference sample is perfect supermirror with reflectivity = 1 everywhere\n",
    "wf[CriticalEdge] = sc.scalar(float('inf'), unit='1/angstrom')\n",
    "\n",
    "# There is no proton current data in the McStas files, here we just add some fake proton current\n",
    "# data to make the workflow run.\n",
    "wf[ProtonCurrent[SampleRun]] = sc.DataArray(\n",
    "    sc.array(dims=('time',), values=[]),\n",
    "    coords={'time': sc.array(dims=('time',), values=[], unit='s')})\n",
    "wf[ProtonCurrent[ReferenceRun]] = sc.DataArray(\n",
    "    sc.array(dims=('time',), values=[]),\n",
    "    coords={'time': sc.array(dims=('time',), values=[], unit='s')})"
   ]
  },
  {
   "cell_type": "markdown",
   "id": "3",
   "metadata": {},
   "source": [
    "Download the data: (might take ~2 minutes depending on your internet connection)"
   ]
  },
  {
   "cell_type": "code",
   "execution_count": null,
   "id": "4",
   "metadata": {},
   "outputs": [],
   "source": [
    "%%time\n",
    "estia_mcstas_spin_flip_example_download_all_to_cache()"
   ]
  },
  {
   "cell_type": "markdown",
   "id": "5",
   "metadata": {},
   "source": [
    "## Reducing the data\n",
    "\n",
    "First each dataset is loaded and reduced separately.\n",
    "The datasets are reduced \"as references\" or \"as samples\" depending on how they are supposed to be used.\n",
    "`supermirror` and `magnetic_supermirror_2` are reduced as references, and `supermirror` and `magnetic_supermirror_2` are reduced as samples."
   ]
  },
  {
   "cell_type": "code",
   "execution_count": null,
   "id": "6",
   "metadata": {},
   "outputs": [],
   "source": [
    "references = {}\n",
    "for sample in (\n",
    "    'supermirror',\n",
    "    'magnetic_supermirror_2',\n",
    "):\n",
    "    references[sample] = []\n",
    "    for flipper_setting in ('offoff', 'offon', 'onoff', 'onon'):\n",
    "        w = wf.copy()\n",
    "        w[RawDetectorData[SampleRun]] = sc.io.load_hdf5(estia_mcstas_spin_flip_example('spin_flip_sample', 'offoff'))\n",
    "        w[RawDetectorData[ReferenceRun]] = sc.io.load_hdf5(estia_mcstas_spin_flip_example(sample, flipper_setting))\n",
    "        references[sample].append(w.compute(Reference))\n",
    "\n",
    "        # We need to unalign all coords of the references to use\n",
    "        # them in the calibration procedure\n",
    "        for c in references[sample][-1].coords:\n",
    "            references[sample][-1].coords.set_aligned(c, False)\n",
    "\n",
    "\n",
    "samples = {}\n",
    "for sample in (\n",
    "    'spin_flip_sample',\n",
    "    'magnetic_supermirror'\n",
    "):\n",
    "    samples[sample] = []\n",
    "    for flipper_setting in ('offoff', 'offon', 'onoff', 'onon'):\n",
    "        w = wf.copy()\n",
    "        w[RawDetectorData[SampleRun]] = sc.io.load_hdf5(estia_mcstas_spin_flip_example(sample, flipper_setting))\n",
    "        w[RawDetectorData[ReferenceRun]] = sc.io.load_hdf5(estia_mcstas_spin_flip_example('supermirror', 'offoff'))\n",
    "        samples[sample].append(w.compute(Sample))"
   ]
  },
  {
   "cell_type": "markdown",
   "id": "7",
   "metadata": {},
   "source": [
    "Here we load the ground truth reflectivity curves for the `up` respectively `down` spin state."
   ]
  },
  {
   "cell_type": "code",
   "execution_count": null,
   "id": "8",
   "metadata": {},
   "outputs": [],
   "source": [
    "Rdown = sc.io.load_hdf5(estia_mcstas_spin_flip_example_groundtruth('down'))\n",
    "Rup = sc.io.load_hdf5(estia_mcstas_spin_flip_example_groundtruth('up'))"
   ]
  },
  {
   "cell_type": "markdown",
   "id": "9",
   "metadata": {},
   "source": [
    "The calibration is performed automatically in the workflow and the user does not have to care about the calibration parameters.\n",
    "But for debugging and troubleshooting it is good to be able to visualize the calibration parameters obtained from the reference measurements.\n",
    "To do this we first calculate the calibration parameters from our nonmagnetic and magnetic reference:"
   ]
  },
  {
   "cell_type": "code",
   "execution_count": null,
   "id": "10",
   "metadata": {},
   "outputs": [],
   "source": [
    "from ess.estia.calibration import PolarizationCalibrationParameters\n",
    "calibration = PolarizationCalibrationParameters.from_reference_measurements(\n",
    "    references['supermirror'],\n",
    "    references['magnetic_supermirror_2']\n",
    ")"
   ]
  },
  {
   "cell_type": "markdown",
   "id": "11",
   "metadata": {},
   "source": [
    "From the `PolarizationCalibrationParameters` object we can obtain the individual calibration parameters, such as the effective polarization of the polarizer when the polarizer flipper is off $Pp$ and the reference intensity $I_0$."
   ]
  },
  {
   "cell_type": "code",
   "execution_count": null,
   "id": "12",
   "metadata": {},
   "outputs": [],
   "source": [
    "calibration.Pp"
   ]
  },
  {
   "cell_type": "code",
   "execution_count": null,
   "id": "13",
   "metadata": {},
   "outputs": [],
   "source": [
    "from ess.reflectometry.figures import wavelength_theta_figure\n",
    "\n",
    "wavelength_theta_figure(calibration.Ap['blade', 5:9], q_edges_to_display=[sc.scalar(0.016, unit='1/angstrom')], vmin=0.1, vmax=3)"
   ]
  },
  {
   "cell_type": "markdown",
   "id": "14",
   "metadata": {},
   "source": [
    "Above we see the calibration parameter $A_p$, the effective polarization of the analyzer when the analyzer flipper is off.\n",
    "The effective polarization should be close to constant but weakly wavelength dependent if the analyzer is working well.\n",
    "We can see that the analyzer appears to be working well in the region where $Q>0.016$ angstrom (line in figure illustrates the cutoff).\n",
    "Below that $Q$ limit the magnetic supermirror reflects both spin states, so there we can't distinguish between them and the calibration fails."
   ]
  },
  {
   "cell_type": "markdown",
   "id": "15",
   "metadata": {},
   "source": [
    "Note that the calibration result is quite noisy. Depending on the amount of counts and the number of bins used that can be the case, especially when the calibration is performed on the 2D grid as above.\n",
    "If we expect that our polarizing components are good, and we are limited by low statistics (the common case) it is sufficient to do the calibration directly on the Q-grid to increase the counts per bin and reduce the noise.\n",
    "This is controlled by using either the `ess.estia.calibration.reflectivity_provider` or the `ess.estia.calibration.reflectivity_provider_calibrate_on_lz` provider in the workflow.\n",
    "The recommended default is to use the `ess.estia.calibration.reflectivity_provider` that does the calibration directly on the $Q$ grid."
   ]
  },
  {
   "cell_type": "markdown",
   "id": "16",
   "metadata": {},
   "source": [
    "# Computing reflectivity with polarization correction"
   ]
  },
  {
   "cell_type": "markdown",
   "id": "17",
   "metadata": {},
   "source": [
    "## Spin flip sample: magnetic supermirror with 10% spin flip probability"
   ]
  },
  {
   "cell_type": "code",
   "execution_count": null,
   "id": "18",
   "metadata": {},
   "outputs": [],
   "source": [
    "w = wf.copy()\n",
    "w.insert(reflectivity_provider)\n",
    "\n",
    "(\n",
    "    w[Intensity[NonMagneticReference, OffOff]],\n",
    "    w[Intensity[NonMagneticReference, OffOn]],\n",
    "    w[Intensity[NonMagneticReference, OnOff]],\n",
    "    w[Intensity[NonMagneticReference, OnOn]]\n",
    ") = references['supermirror']\n",
    "(\n",
    "    w[Intensity[MagneticReference, OffOff]],\n",
    "    w[Intensity[MagneticReference, OffOn]],\n",
    "    w[Intensity[MagneticReference, OnOff]],\n",
    "    w[Intensity[MagneticReference, OnOn]]\n",
    ") = references['magnetic_supermirror_2']\n",
    "(\n",
    "    w[Intensity[MagneticSample, OffOff]],\n",
    "    w[Intensity[MagneticSample, OffOn]],\n",
    "    w[Intensity[MagneticSample, OnOff]],\n",
    "    w[Intensity[MagneticSample, OnOn]]\n",
    ") = samples['spin_flip_sample']\n",
    "\n",
    "R = w.compute(PolarizedReflectivityOverQ)\n",
    "\n",
    "labels = ['$R_{\\\\downarrow\\\\downarrow}$', '$R_{\\\\downarrow\\\\uparrow}$', '$R_{\\\\uparrow\\\\downarrow}$', '$R_{\\\\uparrow\\\\uparrow}$']\n",
    "p = pp.plot(\n",
    "    {\n",
    "        f'{labels[i]}': r for i, r in enumerate(R)\n",
    "    } | {'True $R_{\\\\downarrow\\\\downarrow}$': Rdown * 9/10, 'True $R_{\\\\uparrow\\\\uparrow}$': Rup * 9/10},\n",
    "    title='Reflectivities, corrected, spin_flip_sample, calibrate on $Q$-grid',\n",
    "    norm='log',\n",
    "    vmin=2e-5,\n",
    "    vmax=1.5\n",
    ")\n",
    "p"
   ]
  },
  {
   "cell_type": "markdown",
   "id": "19",
   "metadata": {},
   "source": [
    "To illustrate the difference, here are the same results if we calibrate on the 2D grid instead of on the $Q$-grid, the results are similar but a bit more noisy:"
   ]
  },
  {
   "cell_type": "code",
   "execution_count": null,
   "id": "20",
   "metadata": {},
   "outputs": [],
   "source": [
    "w = wf.copy()\n",
    "w.insert(reflectivity_provider_calibrate_on_lz)\n",
    "\n",
    "(\n",
    "    w[Intensity[NonMagneticReference, OffOff]],\n",
    "    w[Intensity[NonMagneticReference, OffOn]],\n",
    "    w[Intensity[NonMagneticReference, OnOff]],\n",
    "    w[Intensity[NonMagneticReference, OnOn]]\n",
    ") = references['supermirror']\n",
    "(\n",
    "    w[Intensity[MagneticReference, OffOff]],\n",
    "    w[Intensity[MagneticReference, OffOn]],\n",
    "    w[Intensity[MagneticReference, OnOff]],\n",
    "    w[Intensity[MagneticReference, OnOn]]\n",
    ") = references['magnetic_supermirror_2']\n",
    "(\n",
    "    w[Intensity[MagneticSample, OffOff]],\n",
    "    w[Intensity[MagneticSample, OffOn]],\n",
    "    w[Intensity[MagneticSample, OnOff]],\n",
    "    w[Intensity[MagneticSample, OnOn]]\n",
    ") = samples['spin_flip_sample']\n",
    "\n",
    "R = w.compute(PolarizedReflectivityOverQ)\n",
    "\n",
    "labels = ['$R_{\\\\downarrow\\\\downarrow}$', '$R_{\\\\downarrow\\\\uparrow}$', '$R_{\\\\uparrow\\\\downarrow}$', '$R_{\\\\uparrow\\\\uparrow}$']\n",
    "p = pp.plot(\n",
    "    {\n",
    "        f'{labels[i]}': r for i, r in enumerate(R)\n",
    "    } | {'True $R_{\\\\downarrow\\\\downarrow}$': Rdown * 9/10, 'True $R_{\\\\uparrow\\\\uparrow}$': Rup * 9/10},\n",
    "    title='Reflectivities, corrected, spin_flip_sample,  calibrate on $LZ$-grid',\n",
    "    norm='log',\n",
    "    vmin=2e-5,\n",
    "    vmax=1.5\n",
    ")\n",
    "p"
   ]
  },
  {
   "cell_type": "markdown",
   "id": "21",
   "metadata": {},
   "source": [
    "## Magnetic supermirror sample - 0% spin flip probability"
   ]
  },
  {
   "cell_type": "code",
   "execution_count": null,
   "id": "22",
   "metadata": {},
   "outputs": [],
   "source": [
    "w = wf.copy()\n",
    "w.insert(reflectivity_provider)\n",
    "\n",
    "(\n",
    "    w[Intensity[NonMagneticReference, OffOff]],\n",
    "    w[Intensity[NonMagneticReference, OffOn]],\n",
    "    w[Intensity[NonMagneticReference, OnOff]],\n",
    "    w[Intensity[NonMagneticReference, OnOn]]\n",
    ") = references['supermirror']\n",
    "(\n",
    "    w[Intensity[MagneticReference, OffOff]],\n",
    "    w[Intensity[MagneticReference, OffOn]],\n",
    "    w[Intensity[MagneticReference, OnOff]],\n",
    "    w[Intensity[MagneticReference, OnOn]]\n",
    ") = references['magnetic_supermirror_2']\n",
    "(\n",
    "    w[Intensity[MagneticSample, OffOff]],\n",
    "    w[Intensity[MagneticSample, OffOn]],\n",
    "    w[Intensity[MagneticSample, OnOff]],\n",
    "    w[Intensity[MagneticSample, OnOn]]\n",
    ") = samples['magnetic_supermirror']\n",
    "\n",
    "\n",
    "R = w.compute(PolarizedReflectivityOverQ)\n",
    "\n",
    "labels = ['$R_{\\\\downarrow\\\\downarrow}$', '$R_{\\\\downarrow\\\\uparrow}$', '$R_{\\\\uparrow\\\\downarrow}$', '$R_{\\\\uparrow\\\\uparrow}$']\n",
    "p = pp.plot(\n",
    "    {\n",
    "        f'{labels[i]}': r for i, r in enumerate(R)\n",
    "    } | {'True $R_{\\\\downarrow\\\\downarrow}$': Rdown, 'True $R_{\\\\uparrow\\\\uparrow}$': Rup},\n",
    "    title='Reflectivities, corrected, magnetic_supermirror',\n",
    "    norm='log',\n",
    "    vmin=2e-5,\n",
    "    vmax=1.5\n",
    ")\n",
    "p"
   ]
  },
  {
   "cell_type": "markdown",
   "id": "23",
   "metadata": {},
   "source": [
    "Note that we do not get zero reflectivity in the mixed spin channels as we should get if the reduction was perfect. That is because the calibration is done on reference measurements with noise. The more counts we have in the reference measurements the better results we can expect."
   ]
  },
  {
   "cell_type": "markdown",
   "id": "24",
   "metadata": {},
   "source": [
    "And again, to illustrate the difference, here are the same results if we calibrate on the 2D grid instead of on the $Q$-grid, the results are similar but a bit more noisy:"
   ]
  },
  {
   "cell_type": "code",
   "execution_count": null,
   "id": "25",
   "metadata": {},
   "outputs": [],
   "source": [
    "w = wf.copy()\n",
    "w.insert(reflectivity_provider_calibrate_on_lz)\n",
    "\n",
    "(\n",
    "    w[Intensity[NonMagneticReference, OffOff]],\n",
    "    w[Intensity[NonMagneticReference, OffOn]],\n",
    "    w[Intensity[NonMagneticReference, OnOff]],\n",
    "    w[Intensity[NonMagneticReference, OnOn]]\n",
    ") = references['supermirror']\n",
    "(\n",
    "    w[Intensity[MagneticReference, OffOff]],\n",
    "    w[Intensity[MagneticReference, OffOn]],\n",
    "    w[Intensity[MagneticReference, OnOff]],\n",
    "    w[Intensity[MagneticReference, OnOn]]\n",
    ") = references['magnetic_supermirror_2']\n",
    "\n",
    "(\n",
    "    w[Intensity[MagneticSample, OffOff]],\n",
    "    w[Intensity[MagneticSample, OffOn]],\n",
    "    w[Intensity[MagneticSample, OnOff]],\n",
    "    w[Intensity[MagneticSample, OnOn]]\n",
    ") = samples['magnetic_supermirror']\n",
    "\n",
    "R = w.compute(PolarizedReflectivityOverQ)\n",
    "\n",
    "labels = ['$R_{\\\\downarrow\\\\downarrow}$', '$R_{\\\\downarrow\\\\uparrow}$', '$R_{\\\\uparrow\\\\downarrow}$', '$R_{\\\\uparrow\\\\uparrow}$']\n",
    "p = pp.plot(\n",
    "    {\n",
    "        f'{labels[i]}': r for i, r in enumerate(R)\n",
    "    } | {'True $R_{\\\\downarrow\\\\downarrow}$': Rdown, 'True $R_{\\\\uparrow\\\\uparrow}$': Rup},\n",
    "    title='Reflectivities, corrected, magnetic_supermirror, calibrate on $LZ$-grid',\n",
    "    norm='log',\n",
    "    vmin=2e-5,\n",
    "    vmax=1.5\n",
    ")\n",
    "p"
   ]
  }
 ],
 "metadata": {
  "kernelspec": {
   "display_name": "Python 3 (ipykernel)",
   "language": "python",
   "name": "python3"
  },
  "language_info": {
   "codemirror_mode": {
    "name": "ipython",
    "version": 3
   },
   "file_extension": ".py",
   "mimetype": "text/x-python",
   "name": "python",
   "nbconvert_exporter": "python",
   "pygments_lexer": "ipython3",
   "version": "3.13.2"
  }
 },
 "nbformat": 4,
 "nbformat_minor": 5
}
