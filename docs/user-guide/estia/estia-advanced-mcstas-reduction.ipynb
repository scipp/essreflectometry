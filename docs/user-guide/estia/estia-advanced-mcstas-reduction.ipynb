{
 "cells": [
  {
   "cell_type": "markdown",
   "id": "0",
   "metadata": {},
   "source": [
    "# ESTIA advanced data reduction\n",
    "\n",
    "- Audience: Instrument (data) scientists, instrument users\n",
    "- Prerequisites: Basic knowledge of [Scipp](https://scipp.github.io/), [Sciline](https://scipp.github.io/sciline/)\n",
    "\n",
    "This notebook builds on the [basic ESTIA reduction guide](./estia-mcstas-reduction.rst); you should read that first.\n",
    "This advanced guide demonstrates how the workflow can be used to make diagnostics plots and options for processing multiple files together.\n",
    "e the default loader with the `load_mcstas_events` provider.\n",
    "\n",
    "The data is available through the ESSreflectometry package but accessing it requires the pooch package.\n",
    "If you get an error about a missing module pooch, you can install it with `!pip install pooch`."
   ]
  },
  {
   "cell_type": "code",
   "execution_count": null,
   "id": "1",
   "metadata": {},
   "outputs": [],
   "source": [
    "from typing import NewType\n",
    "\n",
    "import pandas as pd\n",
    "import sciline\n",
    "import scipp as sc\n",
    "\n",
    "from ess.estia.data import estia_mcstas_example, estia_mcstas_groundtruth\n",
    "from ess.estia import EstiaMcStasWorkflow\n",
    "from ess.reflectometry.types import *\n",
    "from ess.reflectometry.figures import wavelength_z_figure, wavelength_theta_figure, q_theta_figure"
   ]
  },
  {
   "cell_type": "markdown",
   "id": "2",
   "metadata": {},
   "source": [
    "## Process multiple files\n",
    "\n",
    "To apply the ESTIA workflow to multiple files, we could simply write a for-loop like this:\n",
    "```python\n",
    "results = []\n",
    "for filename in estia_mcstas_example('Ni/Ti-multilayer'):\n",
    "    wf[Filename[SampleRun]] = filename\n",
    "    results.append(wf.compute(ReflectivityOverQ))\n",
    "```\n",
    "However, this would re-load and re-process the reference measurement for every sample file.\n",
    "Instead, we will use Sciline's [map-reduce](https://scipp.github.io/sciline/user-guide/parameter-tables.html) feature to map the workflow over several files and merge the individual results.\n",
    "\n",
    "First, we set up the workflow in almost the same way as in the [basic ESTIA reduction guide](./estia-mcstas-reduction.rst), except that we do *not* set a filename for the sample run."
   ]
  },
  {
   "cell_type": "code",
   "execution_count": null,
   "id": "3",
   "metadata": {},
   "outputs": [],
   "source": [
    "wf = EstiaMcStasWorkflow()\n",
    "wf[Filename[ReferenceRun]] = estia_mcstas_example('reference')\n",
    "\n",
    "wf[YIndexLimits] = sc.scalar(35), sc.scalar(64)\n",
    "wf[ZIndexLimits] = sc.scalar(0), sc.scalar(48 * 32)\n",
    "wf[BeamDivergenceLimits] = sc.scalar(-0.75, unit='deg'), sc.scalar(0.75, unit='deg')\n",
    "\n",
    "wf[WavelengthBins] = sc.geomspace('wavelength', 3.5, 12, 2001, unit='angstrom')\n",
    "wf[QBins] = 1000\n",
    "\n",
    "# There is no proton current data in the McStas files, here we just add some fake proton current\n",
    "# data to make the workflow run.\n",
    "wf[ProtonCurrent[SampleRun]] = sc.DataArray(\n",
    "    sc.array(dims=('time',), values=[]),\n",
    "    coords={'time': sc.array(dims=('time',), values=[], unit='s')})\n",
    "wf[ProtonCurrent[ReferenceRun]] = sc.DataArray(\n",
    "    sc.array(dims=('time',), values=[]),\n",
    "    coords={'time': sc.array(dims=('time',), values=[], unit='s')})"
   ]
  },
  {
   "cell_type": "markdown",
   "id": "4",
   "metadata": {},
   "source": [
    "## Reflectivity vs. Q\n",
    "\n",
    "In this section, we compute the reflectivity as a function of momentum transfer for a number of files with the same sample at different sample rotations.\n",
    "We will `map` the workflow over the ames for each file and `reduce` the results into a single data group.\n",
    "\n",
    "Starting with a parameter table of filenames, we `map` the workflow:\n"
   ]
  },
  {
   "cell_type": "code",
   "execution_count": null,
   "id": "5",
   "metadata": {},
   "outputs": [],
   "source": [
    "param_table = pd.DataFrame({\n",
    "    Filename[SampleRun]: estia_mcstas_example('Ni/Ti-multilayer')\n",
    "}).rename_axis(index='sample_rotation')\n",
    "\n",
    "# Make a copy to preserve the original `wf`.\n",
    "multi_file_workflow = wf.copy()\n",
    "mapped = multi_file_workflow[ReflectivityOverQ].map(param_table)"
   ]
  },
  {
   "cell_type": "markdown",
   "id": "6",
   "metadata": {},
   "source": [
    "Then we merge the reflectivity data for all files into a single data group.\n",
    "We use the sample rotation as key because in this example, each file contains data at a different rotation."
   ]
  },
  {
   "cell_type": "code",
   "execution_count": null,
   "id": "7",
   "metadata": {},
   "outputs": [],
   "source": [
    "def combine_measurements(*measurements: sc.DataArray) -> sc.DataGroup[sc.DataArray]:\n",
    "    return sc.DataGroup({\n",
    "        f\"{da.coords['sample_rotation']:c}\": da for da in measurements\n",
    "    })\n",
    "\n",
    "multi_file_workflow[ReflectivityOverQ] = mapped.reduce(\n",
    "    func=combine_measurements\n",
    ")"
   ]
  },
  {
   "cell_type": "markdown",
   "id": "8",
   "metadata": {},
   "source": [
    "The graph now indicates that everything that depends on `SampleRun` data has been mapped: (Names shown in boxes as opposed to rectangles have been mapped.)"
   ]
  },
  {
   "cell_type": "code",
   "execution_count": null,
   "id": "9",
   "metadata": {},
   "outputs": [],
   "source": [
    "multi_file_workflow.visualize(\n",
    "    ReflectivityOverQ,\n",
    "    graph_attr={\"rankdir\": \"LR\"},\n",
    "    compact=True,\n",
    ")"
   ]
  },
  {
   "cell_type": "markdown",
   "id": "10",
   "metadata": {},
   "source": [
    "We compute the reflectivity for each file and get a data group:"
   ]
  },
  {
   "cell_type": "code",
   "execution_count": null,
   "id": "11",
   "metadata": {},
   "outputs": [],
   "source": [
    "reflectivities = multi_file_workflow.compute(ReflectivityOverQ)\n",
    "reflectivities"
   ]
  },
  {
   "cell_type": "code",
   "execution_count": null,
   "id": "12",
   "metadata": {},
   "outputs": [],
   "source": [
    "reflectivities.hist().plot(norm='log', vmin=1e-8)"
   ]
  },
  {
   "cell_type": "markdown",
   "id": "13",
   "metadata": {},
   "source": [
    "### Reflectivity vs. Q with custom mask\n",
    "\n",
    "The data is very noisy in some $Q$ bins.\n",
    "We can clean up the plot by removing or masking those bins.\n",
    "The variance of the reference measurement is a good measure for how noisy the final data will be, so we use that to insert a mask into the reflectivity curve.\n",
    "This means that we need to request `Reference` to construct the mask.\n",
    "But since the value of `Reference` is different for each sample run, we need to insert a new step into the workflow and include it in the `map`-operation.\n",
    "See also [Replacing providers](https://scipp.github.io/sciline/recipes/replacing-providers.html) for a more general guide.\n",
    "\n",
    "We define a custom type (`MaskedReflectivityOverQ`) and a provider to apply the mask:"
   ]
  },
  {
   "cell_type": "code",
   "execution_count": null,
   "id": "14",
   "metadata": {},
   "outputs": [],
   "source": [
    "MaskedReflectivityOverQ = NewType('MaskedReflectivityOverQ', sc.DataArray)\n",
    "\n",
    "def mask_noisy_reference(\n",
    "    reflectivity: ReflectivityOverQ,\n",
    "    reference: Reference,\n",
    ") -> MaskedReflectivityOverQ:\n",
    "    ref = reference.hist(Q=reflectivity.coords['Q'])\n",
    "    return reflectivity.assign_masks(\n",
    "        noisy_reference= sc.stddevs(ref).data > 0.3 * ref.data\n",
    "    )\n",
    "\n",
    "wf.insert(mask_noisy_reference)"
   ]
  },
  {
   "cell_type": "markdown",
   "id": "15",
   "metadata": {},
   "source": [
    "Note that the code above inserts into `wf`, i.e., the unmapped workflow.\n",
    "Now map-reduce the workflow again but in the new `MaskedReflectivityOverQ` type:"
   ]
  },
  {
   "cell_type": "code",
   "execution_count": null,
   "id": "16",
   "metadata": {},
   "outputs": [],
   "source": [
    "multi_file_workflow = wf.copy()\n",
    "param_table = pd.DataFrame({\n",
    "    Filename[SampleRun]: estia_mcstas_example('Ni/Ti-multilayer')\n",
    "}).rename_axis(index='run')\n",
    "mapped = multi_file_workflow[MaskedReflectivityOverQ].map(param_table)\n",
    "multi_file_workflow[MaskedReflectivityOverQ] = mapped.reduce(\n",
    "    func=combine_measurements\n",
    ")"
   ]
  },
  {
   "cell_type": "markdown",
   "id": "17",
   "metadata": {},
   "source": [
    "The graph is the same as before except that only `MaskedReflectivityOverQ` is available as a final, unmapped type:"
   ]
  },
  {
   "cell_type": "code",
   "execution_count": null,
   "id": "18",
   "metadata": {},
   "outputs": [],
   "source": [
    "multi_file_workflow.visualize(\n",
    "    MaskedReflectivityOverQ,\n",
    "    graph_attr={\"rankdir\": \"LR\"},\n",
    "    compact=True,\n",
    ")"
   ]
  },
  {
   "cell_type": "markdown",
   "id": "19",
   "metadata": {},
   "source": [
    "Compute the results:"
   ]
  },
  {
   "cell_type": "code",
   "execution_count": null,
   "id": "20",
   "metadata": {},
   "outputs": [],
   "source": [
    "reflectivities = multi_file_workflow.compute(MaskedReflectivityOverQ)\n",
    "reflectivities"
   ]
  },
  {
   "cell_type": "markdown",
   "id": "21",
   "metadata": {},
   "source": [
    "To plot, we histogram and set values in masked bins to NaN to make the plot easier to read:"
   ]
  },
  {
   "cell_type": "code",
   "execution_count": null,
   "id": "22",
   "metadata": {},
   "outputs": [],
   "source": [
    "histograms = reflectivities.hist().apply(lambda R: R.assign(\n",
    "    sc.where(\n",
    "        R.masks['noisy_reference'],\n",
    "        sc.scalar(float('nan'), unit=R.unit),\n",
    "        R.data\n",
    "    )\n",
    "))"
   ]
  },
  {
   "cell_type": "markdown",
   "id": "23",
   "metadata": {},
   "source": [
    "Since this data is from a McStas simulation, we know the true reflectivity of the sample.\n",
    "We plot it alongside the 'measured' reflectivity for comparison:"
   ]
  },
  {
   "cell_type": "code",
   "execution_count": null,
   "id": "24",
   "metadata": {},
   "outputs": [],
   "source": [
    "ground_truth = estia_mcstas_groundtruth('Ni/Ti-multilayer')\n",
    "sc.plot({'ground_truth': ground_truth} | dict(histograms), norm='log', vmin=1e-8, c={'ground_truth': 'k'})"
   ]
  },
  {
   "cell_type": "markdown",
   "id": "25",
   "metadata": {},
   "source": [
    "### Other projections\n",
    "\n",
    "ESSreflectometry provides functions for plotting the intensity as a function of different variables.\n",
    "Note that these plots can also be produced by the workflow directly, see [Draw diagnostics plots with the workflow](#Draw-diagnostics-plots-with-the-workflow).\n",
    "But here, we make them manually to more easily combine data from all files.\n",
    "\n",
    "The plots consume data that is provided by the `Sample` key in the workflow.\n",
    "We could map-reduce the workflow in that key instead of in `MaskedReflectivityOverQ` to compute `Sample` for each file.\n",
    "But for simplicity, we use [sciline.compute_mapped](https://scipp.github.io/sciline/generated/functions/sciline.compute_mapped.html#sciline.compute_mapped) to compute the results for all files:"
   ]
  },
  {
   "cell_type": "code",
   "execution_count": null,
   "id": "26",
   "metadata": {},
   "outputs": [],
   "source": [
    "results = list(sciline.compute_mapped(multi_file_workflow, Sample))"
   ]
  },
  {
   "cell_type": "code",
   "execution_count": null,
   "id": "27",
   "metadata": {},
   "outputs": [],
   "source": [
    "wavelength_z_figure(results[3], wavelength_bins=400)"
   ]
  },
  {
   "cell_type": "code",
   "execution_count": null,
   "id": "28",
   "metadata": {},
   "outputs": [],
   "source": [
    "wavelength_theta_figure(\n",
    "    results,\n",
    "    wavelength_bins=200,\n",
    "    theta_bins=200,\n",
    "    q_edges_to_display=[sc.scalar(0.016, unit='1/angstrom'), sc.scalar(0.19, unit='1/angstrom')]\n",
    ")"
   ]
  },
  {
   "cell_type": "code",
   "execution_count": null,
   "id": "29",
   "metadata": {},
   "outputs": [],
   "source": [
    "q_theta_figure(results, q_bins=200, theta_bins=200)"
   ]
  },
  {
   "cell_type": "markdown",
   "id": "30",
   "metadata": {},
   "source": [
    "## Draw diagnostics plots with the workflow\n",
    "\n",
    "The ESTIA workflow can produce a number of plots directly to quickly visualize the data in different forms.\n",
    "Those plots can be combined into a single `ReflectivityDiagnosticsView` or constructed separately.\n",
    "Here, we use the combined `ReflectivityDiagnosticsView` but you can also request one or more of the individual views (see also the graph below):\n",
    "- `ReflectivityOverQ`\n",
    "- `ReflectivityOverZW`\n",
    "- `WavelengthThetaFigure`\n",
    "- `WavelengthZIndexFigure`\n",
    "\n",
    "These plots correspond to the figures in the [Other projections](#Other-projections) sections above but show only data from a single file.\n",
    "\n",
    "We construct the workflow as in the [basic ESTIA reduction guide](./estia-mcstas-reduction.rst) but also add `ThetaBins` for the sample run to control the plots:"
   ]
  },
  {
   "cell_type": "code",
   "execution_count": null,
   "id": "31",
   "metadata": {},
   "outputs": [],
   "source": [
    "wf = EstiaMcStasWorkflow()\n",
    "wf[Filename[SampleRun]] = estia_mcstas_example('Ni/Ti-multilayer')[3]\n",
    "wf[Filename[ReferenceRun]] = estia_mcstas_example('reference')\n",
    "\n",
    "wf[YIndexLimits] = sc.scalar(35), sc.scalar(64)\n",
    "wf[ZIndexLimits] = sc.scalar(0), sc.scalar(48 * 32)\n",
    "wf[BeamDivergenceLimits] = sc.scalar(-0.75, unit='deg'), sc.scalar(0.75, unit='deg')\n",
    "\n",
    "wf[WavelengthBins] = sc.geomspace('wavelength', 3.5, 12, 2001, unit='angstrom')\n",
    "wf[ThetaBins[SampleRun]] = 200\n",
    "wf[QBins] = 1000\n",
    "\n",
    "# There is no proton current data in the McStas files, here we just add some fake proton current\n",
    "# data to make the workflow run.\n",
    "wf[ProtonCurrent[SampleRun]] = sc.DataArray(\n",
    "    sc.array(dims=('time',), values=[]),\n",
    "    coords={'time': sc.array(dims=('time',), values=[], unit='s')})\n",
    "wf[ProtonCurrent[ReferenceRun]] = sc.DataArray(\n",
    "    sc.array(dims=('time',), values=[]),\n",
    "    coords={'time': sc.array(dims=('time',), values=[], unit='s')})"
   ]
  },
  {
   "cell_type": "code",
   "execution_count": null,
   "id": "32",
   "metadata": {},
   "outputs": [],
   "source": [
    "wf.visualize(ReflectivityDiagnosticsView, graph_attr={'rankdir':'LR'})"
   ]
  },
  {
   "cell_type": "markdown",
   "id": "33",
   "metadata": {},
   "source": [
    "We request the figure like any other data in the workflow:"
   ]
  },
  {
   "cell_type": "code",
   "execution_count": null,
   "id": "34",
   "metadata": {},
   "outputs": [],
   "source": [
    "view = wf.compute(ReflectivityDiagnosticsView)"
   ]
  },
  {
   "cell_type": "markdown",
   "id": "35",
   "metadata": {},
   "source": [
    "And finally, we draw it: (this `view` object can be rendered in a Jupyter notebook.)"
   ]
  },
  {
   "cell_type": "code",
   "execution_count": null,
   "id": "36",
   "metadata": {},
   "outputs": [],
   "source": [
    "view"
   ]
  }
 ],
 "metadata": {
  "kernelspec": {
   "display_name": "Python 3 (ipykernel)",
   "language": "python",
   "name": "python3"
  },
  "language_info": {
   "codemirror_mode": {
    "name": "ipython",
    "version": 3
   },
   "file_extension": ".py",
   "mimetype": "text/x-python",
   "name": "python",
   "nbconvert_exporter": "python",
   "pygments_lexer": "ipython3",
   "version": "3.10.14"
  }
 },
 "nbformat": 4,
 "nbformat_minor": 5
}
