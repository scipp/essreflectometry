{
 "cells": [
  {
   "cell_type": "code",
   "execution_count": null,
   "id": "0",
   "metadata": {},
   "outputs": [],
   "source": [
    "%matplotlib widget\n",
    "import scipp as sc\n",
    "import plopp as pp\n",
    "\n",
    "from ess.estia.load import load_mcstas_events\n",
    "from ess.estia.calibration import reflectivity_provider\n",
    "from ess.estia import EstiaWorkflow\n",
    "from ess.reflectometry.types import *\n",
    "from ess.reflectometry.supermirror import CriticalEdge\n",
    "\n",
    "\n",
    "wf = EstiaWorkflow()\n",
    "wf.insert(load_mcstas_events)\n",
    "wf.insert(reflectivity_provider)\n",
    "\n",
    "wf[YIndexLimits]  = sc.scalar(35), sc.scalar(64)\n",
    "wf[ZIndexLimits] = sc.scalar(0), sc.scalar(14 * 32)\n",
    "wf[BeamDivergenceLimits] = sc.scalar(-0.75, unit='deg'), sc.scalar(0.75, unit='deg')\n",
    "wf[WavelengthBins] = sc.geomspace('wavelength', 3.5, 12, 2001, unit='angstrom')\n",
    "wf[QBins] = sc.linspace('Q', 0.001, 0.1, 200, unit='1/angstrom')\n",
    "# Reference sample is perfect supermirror with reflectivity = 1 everywhere\n",
    "wf[CriticalEdge] = sc.scalar(float('inf'), unit='1/angstrom')\n",
    "\n",
    "# There is no proton current data in the McStas files, here we just add some fake proton current\n",
    "# data to make the workflow run.\n",
    "wf[ProtonCurrent[SampleRun]] = sc.DataArray(\n",
    "    sc.array(dims=('time',), values=[]),\n",
    "    coords={'time': sc.array(dims=('time',), values=[], unit='s')})\n",
    "wf[ProtonCurrent[ReferenceRun]] = sc.DataArray(\n",
    "    sc.array(dims=('time',), values=[]),\n",
    "    coords={'time': sc.array(dims=('time',), values=[], unit='s')})"
   ]
  },
  {
   "cell_type": "code",
   "execution_count": null,
   "id": "1",
   "metadata": {},
   "outputs": [],
   "source": [
    "def reduce_as_sample(sample_run, reference_run):\n",
    "    w = wf.copy()\n",
    "    w[Filename[SampleRun]] = path(sample_run)\n",
    "    w[Filename[ReferenceRun]] = path(reference_run)\n",
    "    return w.compute(Sample)\n",
    "\n",
    "def reduce_as_reference(sample_run, reference_run):\n",
    "    w = wf.copy()\n",
    "    w[Filename[SampleRun]] = path(sample_run)\n",
    "    w[Filename[ReferenceRun]] = path(reference_run)\n",
    "    r = w.compute(Reference)\n",
    "    _unalign_coords(r)\n",
    "    return r\n",
    "\n",
    "def _unalign_coords(da):\n",
    "    for c in da.coords:\n",
    "        da.coords.set_aligned(c, False)\n",
    "\n",
    "def path(num):\n",
    "    return f'results/{num}/tof_detector_moved_list.p.x.y.t.L.sx.sy.sz.U1'\n"
   ]
  },
  {
   "cell_type": "code",
   "execution_count": null,
   "id": "2",
   "metadata": {},
   "outputs": [],
   "source": [
    "run_numbers = dict(  # noqa: C408\n",
    "    reference=list(range(221385, 221385+4)),\n",
    "    magnetic_reference=list(range(221385+4, 221385+8)),\n",
    "    magnetic_reference_short=list(range(221229+4, 221229+8)),\n",
    "    magnetic_reference01=list(range(221502, 221502+4)),\n",
    "    magnetic_reference03=list(range(221502+4, 221502+8)),\n",
    "    magnetic_reference05=list(range(221510, 221514)),\n",
    "    magnetic_reference07=list(range(221514, 221518)),\n",
    "    magnetic_test_sample=list(range(221421, 221425)),\n",
    "    magnetic_reference001=list(range(221536, 221540)),\n",
    "    spin_flip_sample_short=list(range(221577, 221581)),\n",
    "    spin_flip_sample=list(range(221585, 221589)),\n",
    ")"
   ]
  },
  {
   "cell_type": "code",
   "execution_count": null,
   "id": "3",
   "metadata": {},
   "outputs": [],
   "source": [
    "\n",
    "from ess.estia.types import *\n",
    "\n",
    "results = {}\n",
    "for run in (\n",
    "    'reference',\n",
    "    'magnetic_reference',\n",
    "    #'magnetic_reference_short',\n",
    "    'magnetic_reference01',\n",
    "    #'magnetic_reference03', 'magnetic_reference05', 'magnetic_reference07', 'magnetic_reference001'\n",
    "):\n",
    "    results[run] = []\n",
    "    for num in run_numbers[run]:\n",
    "        results[run].append(reduce_as_reference(run_numbers['magnetic_test_sample'][0], num))\n",
    "        print(run, path(run))\n"
   ]
  },
  {
   "cell_type": "code",
   "execution_count": null,
   "id": "4",
   "metadata": {},
   "outputs": [],
   "source": [
    "\n",
    "for name, run in (\n",
    "    ('magnetic_sample', 'magnetic_reference'),\n",
    "    #('magnetic_sample_short', 'magnetic_reference_short'),\n",
    "    #('magnetic_sample01', 'magnetic_reference01'),\n",
    "    #('magnetic_sample03', 'magnetic_reference03'),\n",
    "    #('magnetic_sample05', 'magnetic_reference05'),\n",
    "    #('magnetic_sample07', 'magnetic_reference07'),\n",
    "    #('magnetic_test_sample', 'magnetic_test_sample'),\n",
    "    ('spin_flip_sample', 'spin_flip_sample'),\n",
    "    #('spin_flip_sample_short', 'spin_flip_sample_short'),\n",
    "):\n",
    "    results[name] = []\n",
    "    for num in run_numbers[run]:\n",
    "        results[name].append(reduce_as_sample(num, run_numbers['reference'][0]))\n",
    "        print(name, run, path(num))\n",
    "\n",
    "\n"
   ]
  },
  {
   "cell_type": "code",
   "execution_count": null,
   "id": "5",
   "metadata": {},
   "outputs": [],
   "source": [
    "\n",
    "def read_supermirror_reflectivity_file(fname):\n",
    "    with open(fname) as f:\n",
    "        d = [v.strip().split('\\t') for v in f.readlines()][:-1]\n",
    "\n",
    "    return sc.DataArray(data=sc.array(dims='Q',  values=[float(v[1]) for v in d]), coords={'Q': sc.array(dims='Q', values=[float(v[0]) for v in d], unit='1/angstrom')})\n",
    "\n",
    "\n",
    "Rdown = read_supermirror_reflectivity_file('SNAG_m5p5_Tdown.ref')\n",
    "Rup = read_supermirror_reflectivity_file('SNAG_m5p5_Tup.ref')\n"
   ]
  },
  {
   "cell_type": "markdown",
   "id": "6",
   "metadata": {},
   "source": [
    "# Results with polarization correction"
   ]
  },
  {
   "cell_type": "markdown",
   "id": "7",
   "metadata": {},
   "source": [
    "## Spin flip sample: magnetic supermirror with 10% spin flip probability"
   ]
  },
  {
   "cell_type": "code",
   "execution_count": null,
   "id": "8",
   "metadata": {},
   "outputs": [],
   "source": [
    "magres = {}\n",
    "magnetic_reference = 'magnetic_reference'\n",
    "sample = 'spin_flip_sample'\n",
    "\n",
    "w = wf.copy()\n",
    "w.insert(reflectivity_provider)\n",
    "w[Intensity[NonMagneticReference, OffOff]] = results['reference'][0]\n",
    "w[Intensity[NonMagneticReference, OffOn]] = results['reference'][1]\n",
    "w[Intensity[NonMagneticReference, OnOff]] = results['reference'][2]\n",
    "w[Intensity[NonMagneticReference, OnOn]] = results['reference'][3]\n",
    "\n",
    "w[Intensity[MagneticReference, OffOff]] = results[magnetic_reference][0]\n",
    "w[Intensity[MagneticReference, OffOn]] = results[magnetic_reference][1]\n",
    "w[Intensity[MagneticReference, OnOff]] = results[magnetic_reference][2]\n",
    "w[Intensity[MagneticReference, OnOn]] = results[magnetic_reference][3]\n",
    "\n",
    "w[Intensity[MagneticSample, OffOff]] = results[sample][0]\n",
    "w[Intensity[MagneticSample, OffOn]] = results[sample][1]\n",
    "w[Intensity[MagneticSample, OnOff]] = results[sample][2]\n",
    "w[Intensity[MagneticSample, OnOn]] = results[sample][3]\n",
    "R = w.compute(PolarizedReflectivityOverQ)\n",
    "\n",
    "labels = ['$R_{\\\\downarrow\\\\downarrow}$', '$R_{\\\\downarrow\\\\uparrow}$', '$R_{\\\\uparrow\\\\downarrow}$', '$R_{\\\\uparrow\\\\uparrow}$']\n",
    "p = pp.plot(\n",
    "    {\n",
    "        f'{labels[i]}': sc.abs(r) for i, r in enumerate(R)\n",
    "    } | {'True $R_{\\\\downarrow\\\\downarrow}$': Rdown * 9/10, 'True $R_{\\\\uparrow\\\\uparrow}$': Rup * 9/10},\n",
    "    title=f'Reflectivities, corrected, {sample}',\n",
    "    norm='log',\n",
    "    vmin=2e-5,\n",
    "    vmax=1.5\n",
    ")\n",
    "p"
   ]
  },
  {
   "cell_type": "markdown",
   "id": "9",
   "metadata": {},
   "source": [
    "## Magnetic supermirror sample - 0% spin flip probability"
   ]
  },
  {
   "cell_type": "code",
   "execution_count": null,
   "id": "10",
   "metadata": {},
   "outputs": [],
   "source": [
    "magres = {}\n",
    "magnetic_reference = 'magnetic_reference01'\n",
    "sample = 'magnetic_sample'\n",
    "\n",
    "w = wf.copy()\n",
    "w.insert(reflectivity_provider)\n",
    "w[Intensity[NonMagneticReference, OffOff]] = results['reference'][0]\n",
    "w[Intensity[NonMagneticReference, OffOn]] = results['reference'][1]\n",
    "w[Intensity[NonMagneticReference, OnOff]] = results['reference'][2]\n",
    "w[Intensity[NonMagneticReference, OnOn]] = results['reference'][3]\n",
    "\n",
    "w[Intensity[MagneticReference, OffOff]] = results[magnetic_reference][0]\n",
    "w[Intensity[MagneticReference, OffOn]] = results[magnetic_reference][1]\n",
    "w[Intensity[MagneticReference, OnOff]] = results[magnetic_reference][2]\n",
    "w[Intensity[MagneticReference, OnOn]] = results[magnetic_reference][3]\n",
    "\n",
    "w[Intensity[MagneticSample, OffOff]] = results[sample][0]\n",
    "w[Intensity[MagneticSample, OffOn]] = results[sample][1]\n",
    "w[Intensity[MagneticSample, OnOff]] = results[sample][2]\n",
    "w[Intensity[MagneticSample, OnOn]] = results[sample][3]\n",
    "R = w.compute(PolarizedReflectivityOverQ)\n",
    "\n",
    "labels = ['$R_{\\\\downarrow\\\\downarrow}$', '$R_{\\\\downarrow\\\\uparrow}$', '$R_{\\\\uparrow\\\\downarrow}$', '$R_{\\\\uparrow\\\\uparrow}$']\n",
    "p = pp.plot(\n",
    "    {\n",
    "        f'{labels[i]}': sc.abs(r) for i, r in enumerate(R)\n",
    "    } | {'True $R_{\\\\downarrow\\\\downarrow}$': Rdown, 'True $R_{\\\\uparrow\\\\uparrow}$': Rup},\n",
    "    title=f'Reflectivities, corrected, {sample}',\n",
    "    norm='log',\n",
    "    vmin=2e-5,\n",
    "    vmax=1.5\n",
    ")\n",
    "p"
   ]
  },
  {
   "cell_type": "markdown",
   "id": "11",
   "metadata": {},
   "source": [
    "# Results without polarization correction"
   ]
  },
  {
   "cell_type": "markdown",
   "id": "12",
   "metadata": {},
   "source": [
    "## Spin flip sample: magnetic supermirror with 10% spin flip probability"
   ]
  },
  {
   "cell_type": "code",
   "execution_count": null,
   "id": "13",
   "metadata": {},
   "outputs": [],
   "source": [
    "from ess.estia.calibration import solve_for_calibration_parameters\n",
    "from ess.reflectometry.normalization import reduce_to_q\n",
    "I0, *_ = solve_for_calibration_parameters(\n",
    "    [reduce_to_q(r, wf.compute(QBins)) for r in results['reference']],\n",
    "    [reduce_to_q(r, wf.compute(QBins)) for r in results['magnetic_reference']]\n",
    ")\n",
    "\n",
    "R = [\n",
    "    reduce_to_q(v, wf.compute(QBins)).hist() / sc.values(I0) for v in results['spin_flip_sample']\n",
    "]\n",
    "\n",
    "labels = ['$R_{\\\\downarrow\\\\downarrow}$', '$R_{\\\\downarrow\\\\uparrow}$', '$R_{\\\\uparrow\\\\downarrow}$', '$R_{\\\\uparrow\\\\uparrow}$']\n",
    "p = pp.plot(\n",
    "    {\n",
    "        f'{labels[i]}': sc.abs(r) for i, r in enumerate(R)\n",
    "    } | {'True $R_{\\\\downarrow\\\\downarrow}$': Rdown * 9/10, 'True $R_{\\\\uparrow\\\\uparrow}$': Rup * 9/10},\n",
    "    title=f'Reflectivities, not corrected, {sample}',\n",
    "    norm='log',\n",
    "    vmin=2e-5,\n",
    "    vmax=1.5\n",
    ")\n",
    "p"
   ]
  },
  {
   "cell_type": "markdown",
   "id": "14",
   "metadata": {},
   "source": [
    "## Magnetic supermirror sample - 0% spin flip probability"
   ]
  },
  {
   "cell_type": "code",
   "execution_count": null,
   "id": "15",
   "metadata": {},
   "outputs": [],
   "source": [
    "from ess.estia.calibration import solve_for_calibration_parameters\n",
    "from ess.reflectometry.normalization import reduce_to_q\n",
    "I0, *_ = solve_for_calibration_parameters(\n",
    "    [reduce_to_q(r, wf.compute(QBins)) for r in results['reference']],\n",
    "    [reduce_to_q(r, wf.compute(QBins)) for r in results['magnetic_reference01']]\n",
    ")\n",
    "\n",
    "R = [\n",
    "    reduce_to_q(v, wf.compute(QBins)).hist() / sc.values(I0) for v in results['magnetic_sample']\n",
    "]\n",
    "\n",
    "labels = ['$R_{\\\\downarrow\\\\downarrow}$', '$R_{\\\\downarrow\\\\uparrow}$', '$R_{\\\\uparrow\\\\downarrow}$', '$R_{\\\\uparrow\\\\uparrow}$']\n",
    "\n",
    "p = pp.plot(\n",
    "    {\n",
    "        f'{labels[i]}': sc.abs(r) for i, r in enumerate(R)\n",
    "    } | {'True $R_{\\\\downarrow\\\\downarrow}$': Rdown, 'True $R_{\\\\uparrow\\\\uparrow}$': Rup},\n",
    "    title=f'Reflectivities, not corrected, {sample}',\n",
    "    norm='log',\n",
    "    vmin=2e-5,\n",
    "    vmax=1.5\n",
    ")\n",
    "p"
   ]
  }
 ],
 "metadata": {
  "kernelspec": {
   "display_name": "Python 3 (ipykernel)",
   "language": "python",
   "name": "python3"
  },
  "language_info": {
   "codemirror_mode": {
    "name": "ipython",
    "version": 3
   },
   "file_extension": ".py",
   "mimetype": "text/x-python",
   "name": "python",
   "nbconvert_exporter": "python",
   "pygments_lexer": "ipython3",
   "version": "3.13.2"
  }
 },
 "nbformat": 4,
 "nbformat_minor": 5
}
