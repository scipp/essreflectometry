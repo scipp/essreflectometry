{
 "cells": [
  {
   "cell_type": "markdown",
   "id": "0",
   "metadata": {},
   "source": [
    "# ESTIA thumbnails\n",
    "\n",
    "This notebook generates the thumbnails used in the ESTIA user guide."
   ]
  },
  {
   "cell_type": "code",
   "execution_count": null,
   "id": "1",
   "metadata": {},
   "outputs": [],
   "source": [
    "from typing import NewType\n",
    "\n",
    "import matplotlib.pyplot as plt\n",
    "import pandas as pd\n",
    "import sciline\n",
    "import scipp as sc\n",
    "\n",
    "from ess.estia.data import estia_mcstas_example\n",
    "from ess.estia import EstiaMcStasWorkflow\n",
    "from ess.reflectometry.types import *\n",
    "from ess.reflectometry.figures import q_theta_figure"
   ]
  },
  {
   "cell_type": "code",
   "execution_count": null,
   "id": "2",
   "metadata": {},
   "outputs": [],
   "source": [
    "wf = EstiaMcStasWorkflow()\n",
    "wf[Filename[SampleRun]] = estia_mcstas_example('Ni/Ti-multilayer')[3]\n",
    "wf[Filename[ReferenceRun]] = estia_mcstas_example('reference')\n",
    "\n",
    "wf[YIndexLimits] = sc.scalar(35), sc.scalar(64)\n",
    "wf[ZIndexLimits] = sc.scalar(0), sc.scalar(48 * 32)\n",
    "wf[BeamDivergenceLimits] = sc.scalar(-0.75, unit='deg'), sc.scalar(0.75, unit='deg')\n",
    "\n",
    "wf[WavelengthBins] = sc.geomspace('wavelength', 3.5, 12, 2001, unit='angstrom')\n",
    "wf[QBins] = 1000\n",
    "\n",
    "# There is no proton current data in the McStas files, here we just add some fake proton current\n",
    "# data to make the workflow run.\n",
    "wf[ProtonCurrent[SampleRun]] = sc.DataArray(\n",
    "    sc.array(dims=('time',), values=[]),\n",
    "    coords={'time': sc.array(dims=('time',), values=[], unit='s')})\n",
    "wf[ProtonCurrent[ReferenceRun]] = sc.DataArray(\n",
    "    sc.array(dims=('time',), values=[]),\n",
    "    coords={'time': sc.array(dims=('time',), values=[], unit='s')})"
   ]
  },
  {
   "cell_type": "markdown",
   "id": "3",
   "metadata": {},
   "source": [
    "## Basic McStas workflow"
   ]
  },
  {
   "cell_type": "code",
   "execution_count": null,
   "id": "4",
   "metadata": {},
   "outputs": [],
   "source": [
    "reflectivity = wf.compute(ReflectivityOverQ)"
   ]
  },
  {
   "cell_type": "code",
   "execution_count": null,
   "id": "5",
   "metadata": {},
   "outputs": [],
   "source": [
    "def basic_estia_plot(style: str):\n",
    "    with plt.style.context(style):\n",
    "        fig, ax = plt.subplots(layout='constrained', figsize=(3, 2.5))\n",
    "        _ = reflectivity.hist(Q=150).plot(ax=ax, norm='log')\n",
    "        ax.set_xlim((0.13, 0.53))\n",
    "        ax.set_xlabel(r'$Q$ [1/Å]')\n",
    "        ax.set_ylabel(r'$R(Q)$')\n",
    "    return fig"
   ]
  },
  {
   "cell_type": "code",
   "execution_count": null,
   "id": "6",
   "metadata": {},
   "outputs": [],
   "source": [
    "fig = basic_estia_plot('default')\n",
    "fig.savefig(\n",
    "    \"../../docs/_static/thumbnails/estia_mcstas_reduction_light.svg\",\n",
    "    transparent=True,\n",
    ")\n",
    "fig"
   ]
  },
  {
   "cell_type": "code",
   "execution_count": null,
   "id": "7",
   "metadata": {},
   "outputs": [],
   "source": [
    "fig = basic_estia_plot('dark_background')\n",
    "fig.savefig(\n",
    "    \"../../docs/_static/thumbnails/estia_mcstas_reduction_dark.svg\",\n",
    "    transparent=True,\n",
    ")\n",
    "fig"
   ]
  },
  {
   "cell_type": "markdown",
   "id": "8",
   "metadata": {},
   "source": [
    "## Advanced McStas workflow"
   ]
  },
  {
   "cell_type": "code",
   "execution_count": null,
   "id": "9",
   "metadata": {},
   "outputs": [],
   "source": [
    "MaskedReflectivityOverQ = NewType('MaskedReflectivityOverQ', sc.DataArray)\n",
    "\n",
    "def mask_noisy_reference(\n",
    "    reflectivity: ReflectivityOverQ,\n",
    "    reference: Reference,\n",
    ") -> MaskedReflectivityOverQ:\n",
    "    ref = reference.hist(Q=reflectivity.coords['Q'])\n",
    "    return reflectivity.assign_masks(\n",
    "        noisy_reference= sc.stddevs(ref).data > 0.3 * ref.data\n",
    "    )\n",
    "\n",
    "wf.insert(mask_noisy_reference)"
   ]
  },
  {
   "cell_type": "code",
   "execution_count": null,
   "id": "10",
   "metadata": {},
   "outputs": [],
   "source": [
    "param_table = pd.DataFrame({\n",
    "    Filename[SampleRun]: estia_mcstas_example('Ni/Ti-multilayer')\n",
    "}).rename_axis(index='sample_rotation')\n",
    "\n",
    "# Make a copy to preserve the original `wf`.\n",
    "multi_file_workflow = wf.copy()\n",
    "mapped = multi_file_workflow[MaskedReflectivityOverQ].map(param_table)"
   ]
  },
  {
   "cell_type": "code",
   "execution_count": null,
   "id": "11",
   "metadata": {},
   "outputs": [],
   "source": [
    "def combine_measurements(*measurements: sc.DataArray) -> sc.DataGroup[sc.DataArray]:\n",
    "    return sc.DataGroup({\n",
    "        f\"{da.coords['sample_rotation']:c}\": da for da in measurements\n",
    "    })\n",
    "\n",
    "multi_file_workflow[MaskedReflectivityOverQ] = mapped.reduce(\n",
    "    func=combine_measurements\n",
    ")"
   ]
  },
  {
   "cell_type": "code",
   "execution_count": null,
   "id": "12",
   "metadata": {},
   "outputs": [],
   "source": [
    "multi_file_workflow.visualize(\n",
    "    MaskedReflectivityOverQ,\n",
    "    graph_attr={\"rankdir\": \"LR\"},\n",
    "    compact=True,\n",
    ")"
   ]
  },
  {
   "cell_type": "code",
   "execution_count": null,
   "id": "13",
   "metadata": {},
   "outputs": [],
   "source": [
    "samples = list(sciline.compute_mapped(multi_file_workflow, Sample))"
   ]
  },
  {
   "cell_type": "code",
   "execution_count": null,
   "id": "14",
   "metadata": {},
   "outputs": [],
   "source": [
    "def advanced_estia_plot(style: str):\n",
    "    with plt.style.context(style):\n",
    "        fig, ax = plt.subplots(layout='constrained', figsize=(3, 2.5))\n",
    "        _ = q_theta_figure(samples, q_bins=100, theta_bins=100, ax=ax)\n",
    "        ax.set_xlim((0.0, 0.53))\n",
    "        ax.set_ylim((0.0, 0.15))\n",
    "        ax.set_xlabel(r'$Q$ [1/Å]')\n",
    "        ax.set_ylabel(r'$\\theta$ [rad]')\n",
    "        fig.axes[-1].set_ylabel(None)\n",
    "    return fig"
   ]
  },
  {
   "cell_type": "code",
   "execution_count": null,
   "id": "15",
   "metadata": {},
   "outputs": [],
   "source": [
    "fig = advanced_estia_plot('default')\n",
    "fig.savefig(\n",
    "    \"../../docs/_static/thumbnails/estia_advanced_mcstas_reduction_light.svg\",\n",
    "    transparent=True,\n",
    ")\n",
    "fig"
   ]
  },
  {
   "cell_type": "code",
   "execution_count": null,
   "id": "16",
   "metadata": {},
   "outputs": [],
   "source": [
    "fig = advanced_estia_plot('dark_background')\n",
    "fig.savefig(\n",
    "    \"../../docs/_static/thumbnails/estia_advanced_mcstas_reduction_dark.svg\",\n",
    "    transparent=True,\n",
    ")\n",
    "fig"
   ]
  }
 ],
 "metadata": {
  "kernelspec": {
   "display_name": "Python 3",
   "language": "python",
   "name": "python3"
  },
  "language_info": {
   "codemirror_mode": {
    "name": "ipython",
    "version": 2
   },
   "file_extension": ".py",
   "mimetype": "text/x-python",
   "name": "python",
   "nbconvert_exporter": "python",
   "pygments_lexer": "ipython2",
   "version": "2.7.6"
  }
 },
 "nbformat": 4,
 "nbformat_minor": 5
}
